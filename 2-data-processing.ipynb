{
 "cells": [
  {
   "cell_type": "markdown",
   "metadata": {
    "id": "c4DmlrH60_Yq"
   },
   "source": [
    "# Task 1: Data Prepping"
   ]
  },
  {
   "cell_type": "markdown",
   "metadata": {
    "id": "EBX0v02s1ip6"
   },
   "source": [
    "## 1.1 - Loading the data \n",
    "\n",
    "- **_[TO DO]_**: Load the climate data from LAB1 (5 Danish cities between 1980-2018), and store them into Pandas data frames.\n",
    "- **_[TO DO]_**: Have a quick overview of the downloaded dataset and make sure to understand the variables contained in the dataframe. Pay particular attention to the DateTime. "
   ]
  },
  {
   "cell_type": "markdown",
   "metadata": {
    "id": "r_LyErLr2ajE"
   },
   "source": [
    "**[HINT]:** In this case, the index of the dataframe is not an integer (i.e., 0, 1, 2,...) as seen in the previous lab. But we have a multiple index (MultiIndex) [pandas.DataFrame.xs](https://pandas.pydata.org/pandas-docs/stable/reference/api/pandas.DataFrame.xs.html). Check the website to see how select the data of the desidered city.\n",
    "    \n"
   ]
  },
  {
   "cell_type": "code",
   "execution_count": 2,
   "metadata": {
    "id": "ATcPcJas2ajG"
   },
   "outputs": [],
   "source": [
    "###########################\n",
    "# Tasks:\n",
    "#   Load climate data from LAB1 \n",
    "#   Quick overview of the dataset:\n",
    "#       - understand the variables in the dataframe\n",
    "#       - check the Data time for two cities \n",
    "###########################\n",
    "\n",
    "\n",
    "### TO DO\n",
    "import numpy as np\n",
    "import pandas as pd\n",
    "import os\n",
    "\n",
    "import matplotlib.pyplot as plt\n",
    "#########"
   ]
  },
  {
   "cell_type": "code",
   "execution_count": 3,
   "metadata": {},
   "outputs": [
    {
     "data": {
      "text/plain": [
       "['README.md',\n",
       " 'weather-denmark.csv',\n",
       " 'weather-denmark.pkl',\n",
       " 'weather-denmark.tar.gz']"
      ]
     },
     "execution_count": 3,
     "metadata": {},
     "output_type": "execute_result"
    }
   ],
   "source": [
    "os.listdir(\"weather-data/\")"
   ]
  },
  {
   "cell_type": "code",
   "execution_count": 4,
   "metadata": {},
   "outputs": [],
   "source": [
    "data_dir = \"weather-data/\""
   ]
  },
  {
   "cell_type": "code",
   "execution_count": 5,
   "metadata": {},
   "outputs": [],
   "source": [
    "weather_denmark = pd.read_csv('weather-data/weather-denmark.csv')"
   ]
  },
  {
   "cell_type": "code",
   "execution_count": 6,
   "metadata": {},
   "outputs": [],
   "source": [
    "weather_denmark2 = pd.read_pickle('weather-data/weather-denmark.pkl')"
   ]
  },
  {
   "cell_type": "code",
   "execution_count": 7,
   "metadata": {},
   "outputs": [
    {
     "name": "stdout",
     "output_type": "stream",
     "text": [
      "<class 'pandas.core.frame.DataFrame'>\n",
      "RangeIndex: 2918150 entries, 0 to 2918149\n",
      "Data columns (total 6 columns):\n",
      " #   Column     Dtype  \n",
      "---  ------     -----  \n",
      " 0   City       object \n",
      " 1   DateTime   object \n",
      " 2   Temp       float64\n",
      " 3   Pressure   float64\n",
      " 4   WindSpeed  float64\n",
      " 5   WindDir    float64\n",
      "dtypes: float64(4), object(2)\n",
      "memory usage: 133.6+ MB\n"
     ]
    }
   ],
   "source": [
    "weather_denmark.info()"
   ]
  },
  {
   "cell_type": "code",
   "execution_count": 8,
   "metadata": {},
   "outputs": [
    {
     "name": "stdout",
     "output_type": "stream",
     "text": [
      "<class 'pandas.core.frame.DataFrame'>\n",
      "MultiIndex: 2918150 entries, ('Aalborg', Timestamp('1980-03-01 00:00:00')) to ('Roskilde', Timestamp('2018-03-01 23:50:00'))\n",
      "Data columns (total 4 columns):\n",
      " #   Column     Dtype  \n",
      "---  ------     -----  \n",
      " 0   Temp       float64\n",
      " 1   Pressure   float64\n",
      " 2   WindSpeed  float64\n",
      " 3   WindDir    float64\n",
      "dtypes: float64(4)\n",
      "memory usage: 142.2+ MB\n"
     ]
    }
   ],
   "source": [
    "weather_denmark2.info()"
   ]
  },
  {
   "cell_type": "code",
   "execution_count": 9,
   "metadata": {},
   "outputs": [
    {
     "data": {
      "text/plain": [
       "array(['Aalborg', 'Aarhus', 'Esbjerg', 'Odense', 'Roskilde'], dtype=object)"
      ]
     },
     "execution_count": 9,
     "metadata": {},
     "output_type": "execute_result"
    }
   ],
   "source": [
    "pd.unique(weather_denmark[\"City\"])"
   ]
  },
  {
   "cell_type": "code",
   "execution_count": 10,
   "metadata": {},
   "outputs": [],
   "source": [
    "df = weather_denmark2"
   ]
  },
  {
   "cell_type": "code",
   "execution_count": 11,
   "metadata": {},
   "outputs": [
    {
     "data": {
      "text/html": [
       "<div>\n",
       "<style scoped>\n",
       "    .dataframe tbody tr th:only-of-type {\n",
       "        vertical-align: middle;\n",
       "    }\n",
       "\n",
       "    .dataframe tbody tr th {\n",
       "        vertical-align: top;\n",
       "    }\n",
       "\n",
       "    .dataframe thead th {\n",
       "        text-align: right;\n",
       "    }\n",
       "</style>\n",
       "<table border=\"1\" class=\"dataframe\">\n",
       "  <thead>\n",
       "    <tr style=\"text-align: right;\">\n",
       "      <th></th>\n",
       "      <th></th>\n",
       "      <th>Temp</th>\n",
       "      <th>Pressure</th>\n",
       "      <th>WindSpeed</th>\n",
       "      <th>WindDir</th>\n",
       "    </tr>\n",
       "    <tr>\n",
       "      <th>City</th>\n",
       "      <th>DateTime</th>\n",
       "      <th></th>\n",
       "      <th></th>\n",
       "      <th></th>\n",
       "      <th></th>\n",
       "    </tr>\n",
       "  </thead>\n",
       "  <tbody>\n",
       "    <tr>\n",
       "      <th rowspan=\"10\" valign=\"top\">Aalborg</th>\n",
       "      <th>1980-03-01 00:00:00</th>\n",
       "      <td>5.0</td>\n",
       "      <td>1008.1</td>\n",
       "      <td>11.3</td>\n",
       "      <td>290.0</td>\n",
       "    </tr>\n",
       "    <tr>\n",
       "      <th>1980-03-01 00:20:00</th>\n",
       "      <td>4.0</td>\n",
       "      <td>NaN</td>\n",
       "      <td>9.2</td>\n",
       "      <td>270.0</td>\n",
       "    </tr>\n",
       "    <tr>\n",
       "      <th>1980-03-01 00:50:00</th>\n",
       "      <td>4.0</td>\n",
       "      <td>NaN</td>\n",
       "      <td>9.2</td>\n",
       "      <td>280.0</td>\n",
       "    </tr>\n",
       "    <tr>\n",
       "      <th>1980-03-01 01:20:00</th>\n",
       "      <td>4.0</td>\n",
       "      <td>NaN</td>\n",
       "      <td>9.2</td>\n",
       "      <td>280.0</td>\n",
       "    </tr>\n",
       "    <tr>\n",
       "      <th>1980-03-01 01:50:00</th>\n",
       "      <td>4.0</td>\n",
       "      <td>NaN</td>\n",
       "      <td>8.7</td>\n",
       "      <td>270.0</td>\n",
       "    </tr>\n",
       "    <tr>\n",
       "      <th>1980-03-01 02:20:00</th>\n",
       "      <td>4.0</td>\n",
       "      <td>NaN</td>\n",
       "      <td>9.2</td>\n",
       "      <td>280.0</td>\n",
       "    </tr>\n",
       "    <tr>\n",
       "      <th>1980-03-01 03:00:00</th>\n",
       "      <td>3.0</td>\n",
       "      <td>1005.7</td>\n",
       "      <td>10.3</td>\n",
       "      <td>270.0</td>\n",
       "    </tr>\n",
       "    <tr>\n",
       "      <th>1980-03-01 03:20:00</th>\n",
       "      <td>4.0</td>\n",
       "      <td>NaN</td>\n",
       "      <td>11.8</td>\n",
       "      <td>280.0</td>\n",
       "    </tr>\n",
       "    <tr>\n",
       "      <th>1980-03-01 04:00:00</th>\n",
       "      <td>3.0</td>\n",
       "      <td>NaN</td>\n",
       "      <td>12.8</td>\n",
       "      <td>290.0</td>\n",
       "    </tr>\n",
       "    <tr>\n",
       "      <th>1980-03-01 04:01:00</th>\n",
       "      <td>4.0</td>\n",
       "      <td>NaN</td>\n",
       "      <td>10.2</td>\n",
       "      <td>290.0</td>\n",
       "    </tr>\n",
       "  </tbody>\n",
       "</table>\n",
       "</div>"
      ],
      "text/plain": [
       "                             Temp  Pressure  WindSpeed  WindDir\n",
       "City    DateTime                                               \n",
       "Aalborg 1980-03-01 00:00:00   5.0    1008.1       11.3    290.0\n",
       "        1980-03-01 00:20:00   4.0       NaN        9.2    270.0\n",
       "        1980-03-01 00:50:00   4.0       NaN        9.2    280.0\n",
       "        1980-03-01 01:20:00   4.0       NaN        9.2    280.0\n",
       "        1980-03-01 01:50:00   4.0       NaN        8.7    270.0\n",
       "        1980-03-01 02:20:00   4.0       NaN        9.2    280.0\n",
       "        1980-03-01 03:00:00   3.0    1005.7       10.3    270.0\n",
       "        1980-03-01 03:20:00   4.0       NaN       11.8    280.0\n",
       "        1980-03-01 04:00:00   3.0       NaN       12.8    290.0\n",
       "        1980-03-01 04:01:00   4.0       NaN       10.2    290.0"
      ]
     },
     "execution_count": 11,
     "metadata": {},
     "output_type": "execute_result"
    }
   ],
   "source": [
    "df.head(10)"
   ]
  },
  {
   "cell_type": "code",
   "execution_count": 12,
   "metadata": {
    "scrolled": true
   },
   "outputs": [],
   "source": [
    "#df.set_index(['City','DateTime'])"
   ]
  },
  {
   "cell_type": "code",
   "execution_count": 13,
   "metadata": {},
   "outputs": [
    {
     "name": "stdout",
     "output_type": "stream",
     "text": [
      "<class 'pandas.core.frame.DataFrame'>\n",
      "MultiIndex: 2918150 entries, ('Aalborg', Timestamp('1980-03-01 00:00:00')) to ('Roskilde', Timestamp('2018-03-01 23:50:00'))\n",
      "Data columns (total 4 columns):\n",
      " #   Column     Dtype  \n",
      "---  ------     -----  \n",
      " 0   Temp       float64\n",
      " 1   Pressure   float64\n",
      " 2   WindSpeed  float64\n",
      " 3   WindDir    float64\n",
      "dtypes: float64(4)\n",
      "memory usage: 142.2+ MB\n"
     ]
    }
   ],
   "source": [
    "df.info()"
   ]
  },
  {
   "cell_type": "code",
   "execution_count": 14,
   "metadata": {},
   "outputs": [
    {
     "data": {
      "text/html": [
       "<div>\n",
       "<style scoped>\n",
       "    .dataframe tbody tr th:only-of-type {\n",
       "        vertical-align: middle;\n",
       "    }\n",
       "\n",
       "    .dataframe tbody tr th {\n",
       "        vertical-align: top;\n",
       "    }\n",
       "\n",
       "    .dataframe thead th {\n",
       "        text-align: right;\n",
       "    }\n",
       "</style>\n",
       "<table border=\"1\" class=\"dataframe\">\n",
       "  <thead>\n",
       "    <tr style=\"text-align: right;\">\n",
       "      <th></th>\n",
       "      <th>Temp</th>\n",
       "      <th>Pressure</th>\n",
       "      <th>WindSpeed</th>\n",
       "      <th>WindDir</th>\n",
       "    </tr>\n",
       "    <tr>\n",
       "      <th>DateTime</th>\n",
       "      <th></th>\n",
       "      <th></th>\n",
       "      <th></th>\n",
       "      <th></th>\n",
       "    </tr>\n",
       "  </thead>\n",
       "  <tbody>\n",
       "    <tr>\n",
       "      <th>1980-03-01 00:00:00</th>\n",
       "      <td>5.0</td>\n",
       "      <td>1008.1</td>\n",
       "      <td>11.3</td>\n",
       "      <td>290.0</td>\n",
       "    </tr>\n",
       "    <tr>\n",
       "      <th>1980-03-01 00:20:00</th>\n",
       "      <td>4.0</td>\n",
       "      <td>NaN</td>\n",
       "      <td>9.2</td>\n",
       "      <td>270.0</td>\n",
       "    </tr>\n",
       "    <tr>\n",
       "      <th>1980-03-01 00:50:00</th>\n",
       "      <td>4.0</td>\n",
       "      <td>NaN</td>\n",
       "      <td>9.2</td>\n",
       "      <td>280.0</td>\n",
       "    </tr>\n",
       "    <tr>\n",
       "      <th>1980-03-01 01:20:00</th>\n",
       "      <td>4.0</td>\n",
       "      <td>NaN</td>\n",
       "      <td>9.2</td>\n",
       "      <td>280.0</td>\n",
       "    </tr>\n",
       "    <tr>\n",
       "      <th>1980-03-01 01:50:00</th>\n",
       "      <td>4.0</td>\n",
       "      <td>NaN</td>\n",
       "      <td>8.7</td>\n",
       "      <td>270.0</td>\n",
       "    </tr>\n",
       "    <tr>\n",
       "      <th>...</th>\n",
       "      <td>...</td>\n",
       "      <td>...</td>\n",
       "      <td>...</td>\n",
       "      <td>...</td>\n",
       "    </tr>\n",
       "    <tr>\n",
       "      <th>2018-03-01 22:50:00</th>\n",
       "      <td>-4.0</td>\n",
       "      <td>NaN</td>\n",
       "      <td>7.2</td>\n",
       "      <td>70.0</td>\n",
       "    </tr>\n",
       "    <tr>\n",
       "      <th>2018-03-01 23:00:00</th>\n",
       "      <td>-4.2</td>\n",
       "      <td>1022.5</td>\n",
       "      <td>7.2</td>\n",
       "      <td>70.0</td>\n",
       "    </tr>\n",
       "    <tr>\n",
       "      <th>2018-03-01 23:04:00</th>\n",
       "      <td>-4.0</td>\n",
       "      <td>NaN</td>\n",
       "      <td>6.7</td>\n",
       "      <td>70.0</td>\n",
       "    </tr>\n",
       "    <tr>\n",
       "      <th>2018-03-01 23:21:00</th>\n",
       "      <td>-4.0</td>\n",
       "      <td>NaN</td>\n",
       "      <td>6.7</td>\n",
       "      <td>70.0</td>\n",
       "    </tr>\n",
       "    <tr>\n",
       "      <th>2018-03-01 23:50:00</th>\n",
       "      <td>-4.0</td>\n",
       "      <td>NaN</td>\n",
       "      <td>6.2</td>\n",
       "      <td>70.0</td>\n",
       "    </tr>\n",
       "  </tbody>\n",
       "</table>\n",
       "<p>759897 rows × 4 columns</p>\n",
       "</div>"
      ],
      "text/plain": [
       "                     Temp  Pressure  WindSpeed  WindDir\n",
       "DateTime                                               \n",
       "1980-03-01 00:00:00   5.0    1008.1       11.3    290.0\n",
       "1980-03-01 00:20:00   4.0       NaN        9.2    270.0\n",
       "1980-03-01 00:50:00   4.0       NaN        9.2    280.0\n",
       "1980-03-01 01:20:00   4.0       NaN        9.2    280.0\n",
       "1980-03-01 01:50:00   4.0       NaN        8.7    270.0\n",
       "...                   ...       ...        ...      ...\n",
       "2018-03-01 22:50:00  -4.0       NaN        7.2     70.0\n",
       "2018-03-01 23:00:00  -4.2    1022.5        7.2     70.0\n",
       "2018-03-01 23:04:00  -4.0       NaN        6.7     70.0\n",
       "2018-03-01 23:21:00  -4.0       NaN        6.7     70.0\n",
       "2018-03-01 23:50:00  -4.0       NaN        6.2     70.0\n",
       "\n",
       "[759897 rows x 4 columns]"
      ]
     },
     "execution_count": 14,
     "metadata": {},
     "output_type": "execute_result"
    }
   ],
   "source": [
    "df.xs('Aalborg')"
   ]
  },
  {
   "cell_type": "markdown",
   "metadata": {
    "id": "Cx7BliAP2ajI"
   },
   "source": [
    "## 1.2 - Data interpolation\n",
    "\n",
    "Many time series analyses assume observations over uniform time intervals. In the real world, incoming data often does not arrive in this way. As a result, one common prerequisite for Time Series analysis is to take an initially raw input and transform it into discrete intervals, or to resample an input at one frequency into an input of a different frequency.\n",
    "\n",
    "For instance, we plot the temperature data for the cities of Aalborg and Aarhus in the day 1st March 2018 from 00am to 12pm. We can notice that the temperature data for the two cities is not always recorded at the same time."
   ]
  },
  {
   "cell_type": "code",
   "execution_count": 15,
   "metadata": {
    "id": "GsgrizXe2ajJ"
   },
   "outputs": [
    {
     "data": {
      "image/png": "[encoded data removed]",
      "text/plain": [
       "<Figure size 1152x504 with 1 Axes>"
      ]
     },
     "metadata": {
      "needs_background": "light"
     },
     "output_type": "display_data"
    }
   ],
   "source": [
    "# List of the Danish cities in this data-set.\n",
    "cities = ['Aalborg', 'Aarhus', 'Esbjerg', 'Odense', 'Roskilde']\n",
    "\n",
    "\n",
    "city_1 = df.xs(cities[1])\n",
    "city_2 = df.xs(cities[2])\n",
    "\n",
    "\n",
    "plt.figure(figsize=(16, 7))\n",
    "plt.plot(city_1.loc['2018-03-01 00:00:00':'2018-03-01 12:00:00', 'Temp'],\n",
    "         label='Aarhus', linestyle='--', marker='o',  c='r')\n",
    "\n",
    "plt.plot(city_2.loc['2018-03-01 00:00:00':'2018-03-01 12:00:00', 'Temp'],\n",
    "         label='Roskilde', linestyle='--', marker='o',  c='b')\n",
    "\n",
    "plt.xlabel('DateTime')\n",
    "plt.ylabel('Temperature')\n",
    "\n",
    "plt.ylim([-8, -2])\n",
    "plt.grid()\n",
    "plt.legend()\n",
    "plt.show()\n"
   ]
  },
  {
   "cell_type": "code",
   "execution_count": 16,
   "metadata": {},
   "outputs": [],
   "source": [
    "# function in LAB1\n",
    "def path_original_data_pickle():\n",
    "    return os.path.join(data_dir, \"weather-denmark.pkl\")\n",
    "\n",
    "def load_original_data():\n",
    "    return pd.read_pickle(path_original_data_pickle())\n"
   ]
  },
  {
   "cell_type": "markdown",
   "metadata": {
    "id": "aknuqY392ajL"
   },
   "source": [
    "As just observed, this dataset contains data recorded with an irregular interval across cities. Therefore, before continuing with the data analysis, we will [resample](https://pandas.pydata.org/pandas-docs/stable/reference/api/pandas.DataFrame.resample.html) and [interpolate](https://pandas.pydata.org/pandas-docs/stable/reference/api/pandas.DataFrame.interpolate.html) the values in order to have values at a **regular interval** for all the cities and make possible a fair comparison."
   ]
  },
  {
   "cell_type": "code",
   "execution_count": 17,
   "metadata": {
    "id": "awbXVa782ajM"
   },
   "outputs": [],
   "source": [
    "def _resample(df):\n",
    "\n",
    "    # Upsample in order to have data for every minute.\n",
    "    df_res = df.resample('1T')\n",
    "\n",
    "    # Interpolate through time\n",
    "    df_res = df_res.interpolate(method='time')\n",
    "\n",
    "    # Downsample to a 1-hour basis (60 minutes).\n",
    "    df_res = df_res.resample('60T')\n",
    "\n",
    "    df_res = df_res.interpolate()\n",
    "\n",
    "    # We can remove all empty rows or leave like this for missing values analysis?\n",
    "#     df_res = df_res.dropna(how='all')\n",
    "\n",
    "    return df_res\n",
    "\n",
    "\n",
    "def load_resampled_data():\n",
    "\n",
    "    # Path for the cache-file with the resampled data.\n",
    "    path = path_resampled_data_pickle()\n",
    "\n",
    "    # Check if the cache-file already exists and load it eventually\n",
    "    if os.path.exists(path):\n",
    "        df = pd.read_pickle(path)\n",
    "    else:\n",
    "        # Otherwise resample the original data and save it in a cache-file.\n",
    "\n",
    "        # Load the original data.\n",
    "        df_org = load_original_data()\n",
    "\n",
    "        # Split the original data into separate DataFrames for each city.\n",
    "        df_cities = [df_org.xs(city) for city in cities]\n",
    "\n",
    "        # Resample the data for each city.\n",
    "        df_resampled = [_resample(df_city) for df_city in df_cities]\n",
    "\n",
    "        # Join the resampled data into a single data-frame.\n",
    "        df = pd.concat(df_resampled, keys=cities, axis=1, join='inner')\n",
    "\n",
    "        # Save the resampled data in a cache-file for quick reloading.\n",
    "        df.to_pickle(path)\n",
    "\n",
    "    return df"
   ]
  },
  {
   "cell_type": "code",
   "execution_count": 18,
   "metadata": {
    "id": "Q53WJQAU2ajO",
    "scrolled": false
   },
   "outputs": [
    {
     "data": {
      "text/html": [
       "<div>\n",
       "<style scoped>\n",
       "    .dataframe tbody tr th:only-of-type {\n",
       "        vertical-align: middle;\n",
       "    }\n",
       "\n",
       "    .dataframe tbody tr th {\n",
       "        vertical-align: top;\n",
       "    }\n",
       "\n",
       "    .dataframe thead tr th {\n",
       "        text-align: left;\n",
       "    }\n",
       "\n",
       "    .dataframe thead tr:last-of-type th {\n",
       "        text-align: right;\n",
       "    }\n",
       "</style>\n",
       "<table border=\"1\" class=\"dataframe\">\n",
       "  <thead>\n",
       "    <tr>\n",
       "      <th></th>\n",
       "      <th colspan=\"4\" halign=\"left\">Aalborg</th>\n",
       "      <th colspan=\"4\" halign=\"left\">Aarhus</th>\n",
       "      <th colspan=\"4\" halign=\"left\">Esbjerg</th>\n",
       "      <th colspan=\"4\" halign=\"left\">Odense</th>\n",
       "      <th colspan=\"4\" halign=\"left\">Roskilde</th>\n",
       "    </tr>\n",
       "    <tr>\n",
       "      <th></th>\n",
       "      <th>Temp</th>\n",
       "      <th>Pressure</th>\n",
       "      <th>WindSpeed</th>\n",
       "      <th>WindDir</th>\n",
       "      <th>Temp</th>\n",
       "      <th>Pressure</th>\n",
       "      <th>WindSpeed</th>\n",
       "      <th>WindDir</th>\n",
       "      <th>Temp</th>\n",
       "      <th>Pressure</th>\n",
       "      <th>WindSpeed</th>\n",
       "      <th>WindDir</th>\n",
       "      <th>Temp</th>\n",
       "      <th>Pressure</th>\n",
       "      <th>WindSpeed</th>\n",
       "      <th>WindDir</th>\n",
       "      <th>Temp</th>\n",
       "      <th>Pressure</th>\n",
       "      <th>WindSpeed</th>\n",
       "      <th>WindDir</th>\n",
       "    </tr>\n",
       "    <tr>\n",
       "      <th>DateTime</th>\n",
       "      <th></th>\n",
       "      <th></th>\n",
       "      <th></th>\n",
       "      <th></th>\n",
       "      <th></th>\n",
       "      <th></th>\n",
       "      <th></th>\n",
       "      <th></th>\n",
       "      <th></th>\n",
       "      <th></th>\n",
       "      <th></th>\n",
       "      <th></th>\n",
       "      <th></th>\n",
       "      <th></th>\n",
       "      <th></th>\n",
       "      <th></th>\n",
       "      <th></th>\n",
       "      <th></th>\n",
       "      <th></th>\n",
       "      <th></th>\n",
       "    </tr>\n",
       "  </thead>\n",
       "  <tbody>\n",
       "    <tr>\n",
       "      <th>1980-03-01 10:00:00</th>\n",
       "      <td>4.333333</td>\n",
       "      <td>1007.533333</td>\n",
       "      <td>11.266667</td>\n",
       "      <td>286.666667</td>\n",
       "      <td>4.0</td>\n",
       "      <td>1008.000000</td>\n",
       "      <td>14.9</td>\n",
       "      <td>290.0</td>\n",
       "      <td>NaN</td>\n",
       "      <td>NaN</td>\n",
       "      <td>NaN</td>\n",
       "      <td>NaN</td>\n",
       "      <td>5.545455</td>\n",
       "      <td>1010.933333</td>\n",
       "      <td>11.663636</td>\n",
       "      <td>285.454545</td>\n",
       "      <td>NaN</td>\n",
       "      <td>NaN</td>\n",
       "      <td>NaN</td>\n",
       "      <td>NaN</td>\n",
       "    </tr>\n",
       "    <tr>\n",
       "      <th>1980-03-01 11:00:00</th>\n",
       "      <td>5.000000</td>\n",
       "      <td>1007.766667</td>\n",
       "      <td>10.200000</td>\n",
       "      <td>280.000000</td>\n",
       "      <td>5.0</td>\n",
       "      <td>1008.300000</td>\n",
       "      <td>15.4</td>\n",
       "      <td>290.0</td>\n",
       "      <td>6.083333</td>\n",
       "      <td>NaN</td>\n",
       "      <td>12.383333</td>\n",
       "      <td>310.000000</td>\n",
       "      <td>6.142857</td>\n",
       "      <td>1011.066667</td>\n",
       "      <td>12.585714</td>\n",
       "      <td>290.000000</td>\n",
       "      <td>5.000000</td>\n",
       "      <td>NaN</td>\n",
       "      <td>11.466667</td>\n",
       "      <td>280.000000</td>\n",
       "    </tr>\n",
       "    <tr>\n",
       "      <th>1980-03-01 12:00:00</th>\n",
       "      <td>5.000000</td>\n",
       "      <td>1008.000000</td>\n",
       "      <td>10.300000</td>\n",
       "      <td>290.000000</td>\n",
       "      <td>5.0</td>\n",
       "      <td>1008.600000</td>\n",
       "      <td>13.4</td>\n",
       "      <td>280.0</td>\n",
       "      <td>6.583333</td>\n",
       "      <td>NaN</td>\n",
       "      <td>12.883333</td>\n",
       "      <td>310.000000</td>\n",
       "      <td>7.000000</td>\n",
       "      <td>1011.200000</td>\n",
       "      <td>11.300000</td>\n",
       "      <td>290.000000</td>\n",
       "      <td>5.000000</td>\n",
       "      <td>NaN</td>\n",
       "      <td>12.466667</td>\n",
       "      <td>280.000000</td>\n",
       "    </tr>\n",
       "    <tr>\n",
       "      <th>1980-03-01 13:00:00</th>\n",
       "      <td>5.000000</td>\n",
       "      <td>1008.066667</td>\n",
       "      <td>9.700000</td>\n",
       "      <td>290.000000</td>\n",
       "      <td>5.0</td>\n",
       "      <td>1008.433333</td>\n",
       "      <td>15.4</td>\n",
       "      <td>280.0</td>\n",
       "      <td>6.888889</td>\n",
       "      <td>NaN</td>\n",
       "      <td>13.244444</td>\n",
       "      <td>309.444444</td>\n",
       "      <td>7.000000</td>\n",
       "      <td>1011.300000</td>\n",
       "      <td>12.118182</td>\n",
       "      <td>290.000000</td>\n",
       "      <td>5.166667</td>\n",
       "      <td>NaN</td>\n",
       "      <td>13.133333</td>\n",
       "      <td>278.333333</td>\n",
       "    </tr>\n",
       "    <tr>\n",
       "      <th>1980-03-01 14:00:00</th>\n",
       "      <td>4.333333</td>\n",
       "      <td>1008.133333</td>\n",
       "      <td>11.100000</td>\n",
       "      <td>283.333333</td>\n",
       "      <td>5.0</td>\n",
       "      <td>1008.266667</td>\n",
       "      <td>14.9</td>\n",
       "      <td>300.0</td>\n",
       "      <td>6.222222</td>\n",
       "      <td>NaN</td>\n",
       "      <td>12.911111</td>\n",
       "      <td>306.111111</td>\n",
       "      <td>6.857143</td>\n",
       "      <td>1011.400000</td>\n",
       "      <td>12.742857</td>\n",
       "      <td>290.000000</td>\n",
       "      <td>5.833333</td>\n",
       "      <td>NaN</td>\n",
       "      <td>12.300000</td>\n",
       "      <td>270.000000</td>\n",
       "    </tr>\n",
       "    <tr>\n",
       "      <th>...</th>\n",
       "      <td>...</td>\n",
       "      <td>...</td>\n",
       "      <td>...</td>\n",
       "      <td>...</td>\n",
       "      <td>...</td>\n",
       "      <td>...</td>\n",
       "      <td>...</td>\n",
       "      <td>...</td>\n",
       "      <td>...</td>\n",
       "      <td>...</td>\n",
       "      <td>...</td>\n",
       "      <td>...</td>\n",
       "      <td>...</td>\n",
       "      <td>...</td>\n",
       "      <td>...</td>\n",
       "      <td>...</td>\n",
       "      <td>...</td>\n",
       "      <td>...</td>\n",
       "      <td>...</td>\n",
       "      <td>...</td>\n",
       "    </tr>\n",
       "    <tr>\n",
       "      <th>2018-03-01 19:00:00</th>\n",
       "      <td>-4.400000</td>\n",
       "      <td>1024.200000</td>\n",
       "      <td>7.200000</td>\n",
       "      <td>70.000000</td>\n",
       "      <td>-3.6</td>\n",
       "      <td>1022.700000</td>\n",
       "      <td>8.8</td>\n",
       "      <td>70.0</td>\n",
       "      <td>-5.000000</td>\n",
       "      <td>1022.6</td>\n",
       "      <td>6.366667</td>\n",
       "      <td>70.000000</td>\n",
       "      <td>-4.400000</td>\n",
       "      <td>1020.400000</td>\n",
       "      <td>8.800000</td>\n",
       "      <td>60.000000</td>\n",
       "      <td>-4.400000</td>\n",
       "      <td>1020.6</td>\n",
       "      <td>6.200000</td>\n",
       "      <td>60.000000</td>\n",
       "    </tr>\n",
       "    <tr>\n",
       "      <th>2018-03-01 20:00:00</th>\n",
       "      <td>-4.300000</td>\n",
       "      <td>1023.700000</td>\n",
       "      <td>6.700000</td>\n",
       "      <td>70.000000</td>\n",
       "      <td>-3.9</td>\n",
       "      <td>1022.200000</td>\n",
       "      <td>8.2</td>\n",
       "      <td>60.0</td>\n",
       "      <td>-4.333333</td>\n",
       "      <td>1022.6</td>\n",
       "      <td>6.866667</td>\n",
       "      <td>80.000000</td>\n",
       "      <td>-5.000000</td>\n",
       "      <td>1019.800000</td>\n",
       "      <td>8.200000</td>\n",
       "      <td>60.000000</td>\n",
       "      <td>-4.600000</td>\n",
       "      <td>1019.9</td>\n",
       "      <td>6.200000</td>\n",
       "      <td>70.000000</td>\n",
       "    </tr>\n",
       "    <tr>\n",
       "      <th>2018-03-01 21:00:00</th>\n",
       "      <td>-3.900000</td>\n",
       "      <td>1023.100000</td>\n",
       "      <td>8.800000</td>\n",
       "      <td>80.000000</td>\n",
       "      <td>-3.5</td>\n",
       "      <td>1021.700000</td>\n",
       "      <td>8.2</td>\n",
       "      <td>80.0</td>\n",
       "      <td>-5.000000</td>\n",
       "      <td>1022.6</td>\n",
       "      <td>8.200000</td>\n",
       "      <td>80.000000</td>\n",
       "      <td>-5.200000</td>\n",
       "      <td>1019.200000</td>\n",
       "      <td>7.700000</td>\n",
       "      <td>60.000000</td>\n",
       "      <td>-5.100000</td>\n",
       "      <td>1019.6</td>\n",
       "      <td>5.100000</td>\n",
       "      <td>60.000000</td>\n",
       "    </tr>\n",
       "    <tr>\n",
       "      <th>2018-03-01 22:00:00</th>\n",
       "      <td>-3.800000</td>\n",
       "      <td>1022.900000</td>\n",
       "      <td>7.200000</td>\n",
       "      <td>70.000000</td>\n",
       "      <td>-3.5</td>\n",
       "      <td>1021.200000</td>\n",
       "      <td>8.2</td>\n",
       "      <td>80.0</td>\n",
       "      <td>-5.000000</td>\n",
       "      <td>1022.6</td>\n",
       "      <td>6.366667</td>\n",
       "      <td>66.666667</td>\n",
       "      <td>-5.000000</td>\n",
       "      <td>1018.700000</td>\n",
       "      <td>8.800000</td>\n",
       "      <td>60.000000</td>\n",
       "      <td>-5.200000</td>\n",
       "      <td>1019.1</td>\n",
       "      <td>5.100000</td>\n",
       "      <td>60.000000</td>\n",
       "    </tr>\n",
       "    <tr>\n",
       "      <th>2018-03-01 23:00:00</th>\n",
       "      <td>-4.200000</td>\n",
       "      <td>1022.500000</td>\n",
       "      <td>7.200000</td>\n",
       "      <td>70.000000</td>\n",
       "      <td>-3.4</td>\n",
       "      <td>1021.000000</td>\n",
       "      <td>7.7</td>\n",
       "      <td>80.0</td>\n",
       "      <td>-5.333333</td>\n",
       "      <td>1022.6</td>\n",
       "      <td>6.533333</td>\n",
       "      <td>60.000000</td>\n",
       "      <td>-4.700000</td>\n",
       "      <td>1018.300000</td>\n",
       "      <td>9.300000</td>\n",
       "      <td>60.000000</td>\n",
       "      <td>-5.300000</td>\n",
       "      <td>1018.6</td>\n",
       "      <td>4.100000</td>\n",
       "      <td>60.000000</td>\n",
       "    </tr>\n",
       "  </tbody>\n",
       "</table>\n",
       "<p>333110 rows × 20 columns</p>\n",
       "</div>"
      ],
      "text/plain": [
       "                      Aalborg                                     Aarhus  \\\n",
       "                         Temp     Pressure  WindSpeed     WindDir   Temp   \n",
       "DateTime                                                                   \n",
       "1980-03-01 10:00:00  4.333333  1007.533333  11.266667  286.666667    4.0   \n",
       "1980-03-01 11:00:00  5.000000  1007.766667  10.200000  280.000000    5.0   \n",
       "1980-03-01 12:00:00  5.000000  1008.000000  10.300000  290.000000    5.0   \n",
       "1980-03-01 13:00:00  5.000000  1008.066667   9.700000  290.000000    5.0   \n",
       "1980-03-01 14:00:00  4.333333  1008.133333  11.100000  283.333333    5.0   \n",
       "...                       ...          ...        ...         ...    ...   \n",
       "2018-03-01 19:00:00 -4.400000  1024.200000   7.200000   70.000000   -3.6   \n",
       "2018-03-01 20:00:00 -4.300000  1023.700000   6.700000   70.000000   -3.9   \n",
       "2018-03-01 21:00:00 -3.900000  1023.100000   8.800000   80.000000   -3.5   \n",
       "2018-03-01 22:00:00 -3.800000  1022.900000   7.200000   70.000000   -3.5   \n",
       "2018-03-01 23:00:00 -4.200000  1022.500000   7.200000   70.000000   -3.4   \n",
       "\n",
       "                                                     Esbjerg           \\\n",
       "                        Pressure WindSpeed WindDir      Temp Pressure   \n",
       "DateTime                                                                \n",
       "1980-03-01 10:00:00  1008.000000      14.9   290.0       NaN      NaN   \n",
       "1980-03-01 11:00:00  1008.300000      15.4   290.0  6.083333      NaN   \n",
       "1980-03-01 12:00:00  1008.600000      13.4   280.0  6.583333      NaN   \n",
       "1980-03-01 13:00:00  1008.433333      15.4   280.0  6.888889      NaN   \n",
       "1980-03-01 14:00:00  1008.266667      14.9   300.0  6.222222      NaN   \n",
       "...                          ...       ...     ...       ...      ...   \n",
       "2018-03-01 19:00:00  1022.700000       8.8    70.0 -5.000000   1022.6   \n",
       "2018-03-01 20:00:00  1022.200000       8.2    60.0 -4.333333   1022.6   \n",
       "2018-03-01 21:00:00  1021.700000       8.2    80.0 -5.000000   1022.6   \n",
       "2018-03-01 22:00:00  1021.200000       8.2    80.0 -5.000000   1022.6   \n",
       "2018-03-01 23:00:00  1021.000000       7.7    80.0 -5.333333   1022.6   \n",
       "\n",
       "                                              Odense                          \\\n",
       "                     WindSpeed     WindDir      Temp     Pressure  WindSpeed   \n",
       "DateTime                                                                       \n",
       "1980-03-01 10:00:00        NaN         NaN  5.545455  1010.933333  11.663636   \n",
       "1980-03-01 11:00:00  12.383333  310.000000  6.142857  1011.066667  12.585714   \n",
       "1980-03-01 12:00:00  12.883333  310.000000  7.000000  1011.200000  11.300000   \n",
       "1980-03-01 13:00:00  13.244444  309.444444  7.000000  1011.300000  12.118182   \n",
       "1980-03-01 14:00:00  12.911111  306.111111  6.857143  1011.400000  12.742857   \n",
       "...                        ...         ...       ...          ...        ...   \n",
       "2018-03-01 19:00:00   6.366667   70.000000 -4.400000  1020.400000   8.800000   \n",
       "2018-03-01 20:00:00   6.866667   80.000000 -5.000000  1019.800000   8.200000   \n",
       "2018-03-01 21:00:00   8.200000   80.000000 -5.200000  1019.200000   7.700000   \n",
       "2018-03-01 22:00:00   6.366667   66.666667 -5.000000  1018.700000   8.800000   \n",
       "2018-03-01 23:00:00   6.533333   60.000000 -4.700000  1018.300000   9.300000   \n",
       "\n",
       "                                 Roskilde                                  \n",
       "                        WindDir      Temp Pressure  WindSpeed     WindDir  \n",
       "DateTime                                                                   \n",
       "1980-03-01 10:00:00  285.454545       NaN      NaN        NaN         NaN  \n",
       "1980-03-01 11:00:00  290.000000  5.000000      NaN  11.466667  280.000000  \n",
       "1980-03-01 12:00:00  290.000000  5.000000      NaN  12.466667  280.000000  \n",
       "1980-03-01 13:00:00  290.000000  5.166667      NaN  13.133333  278.333333  \n",
       "1980-03-01 14:00:00  290.000000  5.833333      NaN  12.300000  270.000000  \n",
       "...                         ...       ...      ...        ...         ...  \n",
       "2018-03-01 19:00:00   60.000000 -4.400000   1020.6   6.200000   60.000000  \n",
       "2018-03-01 20:00:00   60.000000 -4.600000   1019.9   6.200000   70.000000  \n",
       "2018-03-01 21:00:00   60.000000 -5.100000   1019.6   5.100000   60.000000  \n",
       "2018-03-01 22:00:00   60.000000 -5.200000   1019.1   5.100000   60.000000  \n",
       "2018-03-01 23:00:00   60.000000 -5.300000   1018.6   4.100000   60.000000  \n",
       "\n",
       "[333110 rows x 20 columns]"
      ]
     },
     "execution_count": 18,
     "metadata": {},
     "output_type": "execute_result"
    }
   ],
   "source": [
    "def path_resampled_data_pickle():\n",
    "    return os.path.join(data_dir, \"weather-denmark-resampled.pkl\")\n",
    "\n",
    "df_resampled = load_resampled_data()\n",
    "df_resampled"
   ]
  },
  {
   "cell_type": "code",
   "execution_count": 21,
   "metadata": {},
   "outputs": [
    {
     "name": "stdout",
     "output_type": "stream",
     "text": [
      "<class 'pandas.core.frame.DataFrame'>\n",
      "DatetimeIndex: 333110 entries, 1980-03-01 10:00:00 to 2018-03-01 23:00:00\n",
      "Freq: 60T\n",
      "Data columns (total 20 columns):\n",
      " #   Column                 Non-Null Count   Dtype  \n",
      "---  ------                 --------------   -----  \n",
      " 0   (Aalborg, Temp)        333110 non-null  float64\n",
      " 1   (Aalborg, Pressure)    333110 non-null  float64\n",
      " 2   (Aalborg, WindSpeed)   333110 non-null  float64\n",
      " 3   (Aalborg, WindDir)     333110 non-null  float64\n",
      " 4   (Aarhus, Temp)         333110 non-null  float64\n",
      " 5   (Aarhus, Pressure)     333110 non-null  float64\n",
      " 6   (Aarhus, WindSpeed)    333110 non-null  float64\n",
      " 7   (Aarhus, WindDir)      333110 non-null  float64\n",
      " 8   (Esbjerg, Temp)        333109 non-null  float64\n",
      " 9   (Esbjerg, Pressure)    332070 non-null  float64\n",
      " 10  (Esbjerg, WindSpeed)   333109 non-null  float64\n",
      " 11  (Esbjerg, WindDir)     333109 non-null  float64\n",
      " 12  (Odense, Temp)         333110 non-null  float64\n",
      " 13  (Odense, Pressure)     333110 non-null  float64\n",
      " 14  (Odense, WindSpeed)    333110 non-null  float64\n",
      " 15  (Odense, WindDir)      333110 non-null  float64\n",
      " 16  (Roskilde, Temp)       333109 non-null  float64\n",
      " 17  (Roskilde, Pressure)   332346 non-null  float64\n",
      " 18  (Roskilde, WindSpeed)  333109 non-null  float64\n",
      " 19  (Roskilde, WindDir)    333109 non-null  float64\n",
      "dtypes: float64(20)\n",
      "memory usage: 61.4 MB\n"
     ]
    }
   ],
   "source": [
    "df_resampled.info()"
   ]
  },
  {
   "cell_type": "markdown",
   "metadata": {
    "id": "KJOL6sVJ2ajQ"
   },
   "source": [
    "**_[TO DO]_:** Check now the previous plot after resampling and interpolation.\n"
   ]
  },
  {
   "cell_type": "code",
   "execution_count": 60,
   "metadata": {
    "id": "cI7Iz5KO2ajQ",
    "scrolled": true
   },
   "outputs": [
    {
     "data": {
      "image/png": "[encoded data removed]",
      "text/plain": [
       "<Figure size 1728x576 with 4 Axes>"
      ]
     },
     "metadata": {
      "needs_background": "light"
     },
     "output_type": "display_data"
    }
   ],
   "source": [
    "###########################\n",
    "# Task: \n",
    "#   Plot the previous one with the new data\n",
    "###########################\n",
    "\n",
    "\n",
    "### TO DO\n",
    "\n",
    "fig = plt.figure(figsize = (24,8))\n",
    "\n",
    "ax = fig.add_subplot(411)\n",
    "\n",
    "pressure = ax.twinx()\n",
    "winddir = ax.twinx()\n",
    "windspeed = ax.twinx()\n",
    "\n",
    "weather_features = ['Temp','Pressure','WindDir','WindSpeed']\n",
    "\n",
    "features_color = ['0.8','0.6','0.4','0.2']\n",
    "ax.set_xlabel('DateTime')\n",
    "ax.set_ylabel(weather_features[0],color = features_color[0])\n",
    "\n",
    "ax.plot(df_resampled.loc[:,(cities[1],weather_features[0])],\n",
    "        label='Aarhus',color = features_color[0])\n",
    "\n",
    "pressure.set_ylabel(weather_features[1],color = features_color[1])\n",
    "pressure.plot(df_resampled.loc[:,(cities[1],weather_features[1])]\n",
    "        ,color = features_color[1])\n",
    "\n",
    "pressure.yaxis.tick_right()\n",
    "pressure.spines['right'].set_position(('axes', 1.00))\n",
    "pressure.yaxis.set_label_position(\"right\")\n",
    "\n",
    "winddir.set_ylabel(weather_features[2],color = features_color[2])\n",
    "winddir.plot(df_resampled.loc[:,(cities[1],weather_features[2])]\n",
    "        ,color = features_color[2])\n",
    "\n",
    "winddir.yaxis.tick_right()\n",
    "winddir.spines['right'].set_position(('axes', 1.05))\n",
    "winddir.yaxis.set_label_position(\"right\")\n",
    "\n",
    "windspeed.set_ylabel(weather_features[3],color = features_color[3])\n",
    "windspeed.plot(df_resampled.loc[:,(cities[1],weather_features[3])]\n",
    "        ,color = features_color[3])\n",
    "\n",
    "windspeed.yaxis.tick_right()\n",
    "windspeed.spines['right'].set_position(('axes', 1.10))\n",
    "windspeed.yaxis.set_label_position(\"right\")\n",
    "\n",
    "\n",
    "#plt.grid()\n",
    "#plt.legend()\n",
    "plt.show()\n",
    "\n",
    "\n",
    "\n",
    "#########"
   ]
  },
  {
   "cell_type": "code",
   "execution_count": 62,
   "metadata": {},
   "outputs": [
    {
     "data": {
      "image/png": "[encoded data removed]",
      "text/plain": [
       "<Figure size 1152x504 with 1 Axes>"
      ]
     },
     "metadata": {
      "needs_background": "light"
     },
     "output_type": "display_data"
    }
   ],
   "source": [
    "\n",
    "plt.figure(figsize=(16, 7))\n",
    "plt.plot(df_resampled.loc['2018-03-01 00:00:00':'2018-03-01 12:00:00',(cities[1],weather_features[0])],\n",
    "        label='Aarhus',color = 'b')\n",
    "\n",
    "plt.plot(df_resampled.loc['2018-03-01 00:00:00':'2018-03-01 12:00:00',(cities[2],weather_features[0])],\n",
    "        label='Roskilde',color ='c')\n",
    "\n",
    "plt.xlabel('DateTime')\n",
    "plt.ylabel('Temperature')\n",
    "\n",
    "plt.ylim([-8, -2])\n",
    "plt.grid()\n",
    "plt.legend()\n",
    "plt.show()"
   ]
  },
  {
   "cell_type": "markdown",
   "metadata": {
    "id": "Tzwmr4iVAGI1"
   },
   "source": [
    "## 1.3 - Data overview\n",
    "\n",
    "We will now analyse the statistical properties of this dataset. Since this dataset is quite big and contains weather data of almost 40 years, in order try to complete the following instructions:\n",
    "- **_[TO DO]_**  extract the general statistical properties (mean, variance, min value, max value),\n",
    "- **_[TO DO]_**  for each city, plot the average temperature and the wind speed variance in January for all the years (1980 to 2018) \n",
    "- **_[TO DO]_** the maximum temperature and the minimum wind speed in May "
   ]
  },
  {
   "cell_type": "code",
   "execution_count": 182,
   "metadata": {
    "id": "SbDIkaEhAGI1"
   },
   "outputs": [
    {
     "data": {
      "text/html": [
       "<div>\n",
       "<style scoped>\n",
       "    .dataframe tbody tr th:only-of-type {\n",
       "        vertical-align: middle;\n",
       "    }\n",
       "\n",
       "    .dataframe tbody tr th {\n",
       "        vertical-align: top;\n",
       "    }\n",
       "\n",
       "    .dataframe thead tr th {\n",
       "        text-align: left;\n",
       "    }\n",
       "</style>\n",
       "<table border=\"1\" class=\"dataframe\">\n",
       "  <thead>\n",
       "    <tr>\n",
       "      <th></th>\n",
       "      <th colspan=\"4\" halign=\"left\">Aalborg</th>\n",
       "      <th colspan=\"4\" halign=\"left\">Aarhus</th>\n",
       "      <th colspan=\"4\" halign=\"left\">Esbjerg</th>\n",
       "      <th colspan=\"4\" halign=\"left\">Odense</th>\n",
       "      <th colspan=\"4\" halign=\"left\">Roskilde</th>\n",
       "    </tr>\n",
       "    <tr>\n",
       "      <th></th>\n",
       "      <th>Temp</th>\n",
       "      <th>Pressure</th>\n",
       "      <th>WindSpeed</th>\n",
       "      <th>WindDir</th>\n",
       "      <th>Temp</th>\n",
       "      <th>Pressure</th>\n",
       "      <th>WindSpeed</th>\n",
       "      <th>WindDir</th>\n",
       "      <th>Temp</th>\n",
       "      <th>Pressure</th>\n",
       "      <th>WindSpeed</th>\n",
       "      <th>WindDir</th>\n",
       "      <th>Temp</th>\n",
       "      <th>Pressure</th>\n",
       "      <th>WindSpeed</th>\n",
       "      <th>WindDir</th>\n",
       "      <th>Temp</th>\n",
       "      <th>Pressure</th>\n",
       "      <th>WindSpeed</th>\n",
       "      <th>WindDir</th>\n",
       "    </tr>\n",
       "  </thead>\n",
       "  <tbody>\n",
       "    <tr>\n",
       "      <th>count</th>\n",
       "      <td>333110.000000</td>\n",
       "      <td>333110.000000</td>\n",
       "      <td>333110.000000</td>\n",
       "      <td>333110.000000</td>\n",
       "      <td>333110.000000</td>\n",
       "      <td>333110.000000</td>\n",
       "      <td>333110.000000</td>\n",
       "      <td>333110.000000</td>\n",
       "      <td>333109.000000</td>\n",
       "      <td>332070.000000</td>\n",
       "      <td>333109.000000</td>\n",
       "      <td>333109.000000</td>\n",
       "      <td>333110.000000</td>\n",
       "      <td>333110.000000</td>\n",
       "      <td>333110.000000</td>\n",
       "      <td>333110.000000</td>\n",
       "      <td>333109.000000</td>\n",
       "      <td>332346.000000</td>\n",
       "      <td>333109.000000</td>\n",
       "      <td>333109.000000</td>\n",
       "    </tr>\n",
       "    <tr>\n",
       "      <th>mean</th>\n",
       "      <td>8.323675</td>\n",
       "      <td>1012.743473</td>\n",
       "      <td>4.867406</td>\n",
       "      <td>192.307074</td>\n",
       "      <td>8.290577</td>\n",
       "      <td>1013.352071</td>\n",
       "      <td>4.036376</td>\n",
       "      <td>201.261096</td>\n",
       "      <td>8.537116</td>\n",
       "      <td>1013.131439</td>\n",
       "      <td>4.892615</td>\n",
       "      <td>201.758338</td>\n",
       "      <td>8.802755</td>\n",
       "      <td>1013.805596</td>\n",
       "      <td>4.848788</td>\n",
       "      <td>195.840053</td>\n",
       "      <td>8.264180</td>\n",
       "      <td>1012.839357</td>\n",
       "      <td>4.835396</td>\n",
       "      <td>202.708912</td>\n",
       "    </tr>\n",
       "    <tr>\n",
       "      <th>std</th>\n",
       "      <td>6.986639</td>\n",
       "      <td>11.690186</td>\n",
       "      <td>2.793941</td>\n",
       "      <td>88.071567</td>\n",
       "      <td>7.027572</td>\n",
       "      <td>11.277480</td>\n",
       "      <td>2.549404</td>\n",
       "      <td>82.166840</td>\n",
       "      <td>6.743867</td>\n",
       "      <td>10.904699</td>\n",
       "      <td>2.681328</td>\n",
       "      <td>87.880378</td>\n",
       "      <td>6.924723</td>\n",
       "      <td>10.958942</td>\n",
       "      <td>2.768103</td>\n",
       "      <td>83.739036</td>\n",
       "      <td>7.124592</td>\n",
       "      <td>11.739851</td>\n",
       "      <td>2.755634</td>\n",
       "      <td>86.188538</td>\n",
       "    </tr>\n",
       "    <tr>\n",
       "      <th>min</th>\n",
       "      <td>-25.000000</td>\n",
       "      <td>951.900000</td>\n",
       "      <td>0.000000</td>\n",
       "      <td>10.000000</td>\n",
       "      <td>-24.300000</td>\n",
       "      <td>955.500000</td>\n",
       "      <td>0.000000</td>\n",
       "      <td>10.000000</td>\n",
       "      <td>-27.000000</td>\n",
       "      <td>959.300000</td>\n",
       "      <td>0.000000</td>\n",
       "      <td>10.000000</td>\n",
       "      <td>-22.500000</td>\n",
       "      <td>959.700000</td>\n",
       "      <td>0.000000</td>\n",
       "      <td>10.000000</td>\n",
       "      <td>-21.833333</td>\n",
       "      <td>959.800000</td>\n",
       "      <td>0.000000</td>\n",
       "      <td>10.000000</td>\n",
       "    </tr>\n",
       "    <tr>\n",
       "      <th>25%</th>\n",
       "      <td>3.100000</td>\n",
       "      <td>1005.700000</td>\n",
       "      <td>2.666667</td>\n",
       "      <td>116.666667</td>\n",
       "      <td>3.000000</td>\n",
       "      <td>1006.600000</td>\n",
       "      <td>2.100000</td>\n",
       "      <td>140.000000</td>\n",
       "      <td>4.000000</td>\n",
       "      <td>1006.954601</td>\n",
       "      <td>2.933333</td>\n",
       "      <td>126.666667</td>\n",
       "      <td>3.700000</td>\n",
       "      <td>1007.300000</td>\n",
       "      <td>2.766667</td>\n",
       "      <td>126.666667</td>\n",
       "      <td>3.000000</td>\n",
       "      <td>1006.100000</td>\n",
       "      <td>2.766667</td>\n",
       "      <td>130.000000</td>\n",
       "    </tr>\n",
       "    <tr>\n",
       "      <th>50%</th>\n",
       "      <td>8.100000</td>\n",
       "      <td>1013.400000</td>\n",
       "      <td>4.600000</td>\n",
       "      <td>210.000000</td>\n",
       "      <td>8.000000</td>\n",
       "      <td>1014.000000</td>\n",
       "      <td>3.600000</td>\n",
       "      <td>213.333333</td>\n",
       "      <td>8.333333</td>\n",
       "      <td>1014.127073</td>\n",
       "      <td>4.516667</td>\n",
       "      <td>216.666667</td>\n",
       "      <td>8.600000</td>\n",
       "      <td>1014.433333</td>\n",
       "      <td>4.600000</td>\n",
       "      <td>210.000000</td>\n",
       "      <td>8.000000</td>\n",
       "      <td>1013.833333</td>\n",
       "      <td>4.433333</td>\n",
       "      <td>220.000000</td>\n",
       "    </tr>\n",
       "    <tr>\n",
       "      <th>75%</th>\n",
       "      <td>13.600000</td>\n",
       "      <td>1020.500000</td>\n",
       "      <td>6.700000</td>\n",
       "      <td>260.000000</td>\n",
       "      <td>13.500000</td>\n",
       "      <td>1020.800000</td>\n",
       "      <td>5.600000</td>\n",
       "      <td>270.000000</td>\n",
       "      <td>13.582857</td>\n",
       "      <td>1019.861904</td>\n",
       "      <td>6.533333</td>\n",
       "      <td>273.703704</td>\n",
       "      <td>13.950000</td>\n",
       "      <td>1021.000000</td>\n",
       "      <td>6.635696</td>\n",
       "      <td>260.000000</td>\n",
       "      <td>13.700000</td>\n",
       "      <td>1020.700000</td>\n",
       "      <td>6.574359</td>\n",
       "      <td>270.000000</td>\n",
       "    </tr>\n",
       "    <tr>\n",
       "      <th>max</th>\n",
       "      <td>30.800000</td>\n",
       "      <td>1050.800000</td>\n",
       "      <td>32.900000</td>\n",
       "      <td>360.000000</td>\n",
       "      <td>30.900000</td>\n",
       "      <td>1050.000000</td>\n",
       "      <td>33.400000</td>\n",
       "      <td>360.000000</td>\n",
       "      <td>54.000000</td>\n",
       "      <td>1049.300000</td>\n",
       "      <td>39.100000</td>\n",
       "      <td>360.000000</td>\n",
       "      <td>49.900000</td>\n",
       "      <td>1048.900000</td>\n",
       "      <td>62.521795</td>\n",
       "      <td>360.000000</td>\n",
       "      <td>32.000000</td>\n",
       "      <td>1048.100000</td>\n",
       "      <td>25.000000</td>\n",
       "      <td>360.000000</td>\n",
       "    </tr>\n",
       "  </tbody>\n",
       "</table>\n",
       "</div>"
      ],
      "text/plain": [
       "             Aalborg                                               \\\n",
       "                Temp       Pressure      WindSpeed        WindDir   \n",
       "count  333110.000000  333110.000000  333110.000000  333110.000000   \n",
       "mean        8.323675    1012.743473       4.867406     192.307074   \n",
       "std         6.986639      11.690186       2.793941      88.071567   \n",
       "min       -25.000000     951.900000       0.000000      10.000000   \n",
       "25%         3.100000    1005.700000       2.666667     116.666667   \n",
       "50%         8.100000    1013.400000       4.600000     210.000000   \n",
       "75%        13.600000    1020.500000       6.700000     260.000000   \n",
       "max        30.800000    1050.800000      32.900000     360.000000   \n",
       "\n",
       "              Aarhus                                               \\\n",
       "                Temp       Pressure      WindSpeed        WindDir   \n",
       "count  333110.000000  333110.000000  333110.000000  333110.000000   \n",
       "mean        8.290577    1013.352071       4.036376     201.261096   \n",
       "std         7.027572      11.277480       2.549404      82.166840   \n",
       "min       -24.300000     955.500000       0.000000      10.000000   \n",
       "25%         3.000000    1006.600000       2.100000     140.000000   \n",
       "50%         8.000000    1014.000000       3.600000     213.333333   \n",
       "75%        13.500000    1020.800000       5.600000     270.000000   \n",
       "max        30.900000    1050.000000      33.400000     360.000000   \n",
       "\n",
       "             Esbjerg                                               \\\n",
       "                Temp       Pressure      WindSpeed        WindDir   \n",
       "count  333109.000000  332070.000000  333109.000000  333109.000000   \n",
       "mean        8.537116    1013.131439       4.892615     201.758338   \n",
       "std         6.743867      10.904699       2.681328      87.880378   \n",
       "min       -27.000000     959.300000       0.000000      10.000000   \n",
       "25%         4.000000    1006.954601       2.933333     126.666667   \n",
       "50%         8.333333    1014.127073       4.516667     216.666667   \n",
       "75%        13.582857    1019.861904       6.533333     273.703704   \n",
       "max        54.000000    1049.300000      39.100000     360.000000   \n",
       "\n",
       "              Odense                                               \\\n",
       "                Temp       Pressure      WindSpeed        WindDir   \n",
       "count  333110.000000  333110.000000  333110.000000  333110.000000   \n",
       "mean        8.802755    1013.805596       4.848788     195.840053   \n",
       "std         6.924723      10.958942       2.768103      83.739036   \n",
       "min       -22.500000     959.700000       0.000000      10.000000   \n",
       "25%         3.700000    1007.300000       2.766667     126.666667   \n",
       "50%         8.600000    1014.433333       4.600000     210.000000   \n",
       "75%        13.950000    1021.000000       6.635696     260.000000   \n",
       "max        49.900000    1048.900000      62.521795     360.000000   \n",
       "\n",
       "            Roskilde                                               \n",
       "                Temp       Pressure      WindSpeed        WindDir  \n",
       "count  333109.000000  332346.000000  333109.000000  333109.000000  \n",
       "mean        8.264180    1012.839357       4.835396     202.708912  \n",
       "std         7.124592      11.739851       2.755634      86.188538  \n",
       "min       -21.833333     959.800000       0.000000      10.000000  \n",
       "25%         3.000000    1006.100000       2.766667     130.000000  \n",
       "50%         8.000000    1013.833333       4.433333     220.000000  \n",
       "75%        13.700000    1020.700000       6.574359     270.000000  \n",
       "max        32.000000    1048.100000      25.000000     360.000000  "
      ]
     },
     "execution_count": 182,
     "metadata": {},
     "output_type": "execute_result"
    }
   ],
   "source": [
    "###########################\n",
    "# Task: \n",
    "#   extract general statistical properties\n",
    "#\n",
    "###########################\n",
    "\n",
    "\n",
    "### TO DO\n",
    "df_resampled.describe()\n",
    "\n",
    "#########"
   ]
  },
  {
   "cell_type": "code",
   "execution_count": 67,
   "metadata": {},
   "outputs": [
    {
     "name": "stdout",
     "output_type": "stream",
     "text": [
      "<class 'pandas.core.frame.DataFrame'>\n",
      "DatetimeIndex: 333110 entries, 1980-03-01 10:00:00 to 2018-03-01 23:00:00\n",
      "Freq: 60T\n",
      "Data columns (total 20 columns):\n",
      " #   Column                 Non-Null Count   Dtype  \n",
      "---  ------                 --------------   -----  \n",
      " 0   (Aalborg, Temp)        333110 non-null  float64\n",
      " 1   (Aalborg, Pressure)    333110 non-null  float64\n",
      " 2   (Aalborg, WindSpeed)   333110 non-null  float64\n",
      " 3   (Aalborg, WindDir)     333110 non-null  float64\n",
      " 4   (Aarhus, Temp)         333110 non-null  float64\n",
      " 5   (Aarhus, Pressure)     333110 non-null  float64\n",
      " 6   (Aarhus, WindSpeed)    333110 non-null  float64\n",
      " 7   (Aarhus, WindDir)      333110 non-null  float64\n",
      " 8   (Esbjerg, Temp)        333109 non-null  float64\n",
      " 9   (Esbjerg, Pressure)    332070 non-null  float64\n",
      " 10  (Esbjerg, WindSpeed)   333109 non-null  float64\n",
      " 11  (Esbjerg, WindDir)     333109 non-null  float64\n",
      " 12  (Odense, Temp)         333110 non-null  float64\n",
      " 13  (Odense, Pressure)     333110 non-null  float64\n",
      " 14  (Odense, WindSpeed)    333110 non-null  float64\n",
      " 15  (Odense, WindDir)      333110 non-null  float64\n",
      " 16  (Roskilde, Temp)       333109 non-null  float64\n",
      " 17  (Roskilde, Pressure)   332346 non-null  float64\n",
      " 18  (Roskilde, WindSpeed)  333109 non-null  float64\n",
      " 19  (Roskilde, WindDir)    333109 non-null  float64\n",
      "dtypes: float64(20)\n",
      "memory usage: 61.4 MB\n"
     ]
    }
   ],
   "source": [
    "df_resampled.info()"
   ]
  },
  {
   "cell_type": "code",
   "execution_count": 96,
   "metadata": {
    "id": "B_RiAp5kAGI3"
   },
   "outputs": [
    {
     "data": {
      "text/plain": [
       "Text(0.5, 0, 'Years')"
      ]
     },
     "execution_count": 96,
     "metadata": {},
     "output_type": "execute_result"
    },
    {
     "data": {
      "image/png": "[encoded data removed]",
      "text/plain": [
       "<Figure size 1152x720 with 1 Axes>"
      ]
     },
     "metadata": {
      "needs_background": "light"
     },
     "output_type": "display_data"
    }
   ],
   "source": [
    "###########################\n",
    "# Task: \n",
    "#   plot average temperature in January from 1980 to 2018.\n",
    "#\n",
    "###########################\n",
    "\n",
    "\n",
    "### TO DO\n",
    "average_temperature_years = np.linspace(1980,2018,39,dtype = int)\n",
    "average_temperature_years = average_temperature_years.astype(str)\n",
    "average_temperature_dic = {}\n",
    "\n",
    "for years in average_temperature_years:\n",
    "    average_temperature_dic[years]=df_resampled.loc[years+'-01-01 00:00:00':years+'-01-31 23:00:00',\n",
    "                    (cities[1],weather_features[0])].mean()\n",
    "\n",
    "fig,ax = plt.subplots(figsize = (16,10))\n",
    "\n",
    "ax.plot(pd.DataFrame.from_dict(average_temperature_dic,orient='index'))\n",
    "ax.set_xlabel('Years')\n",
    "#########"
   ]
  },
  {
   "cell_type": "code",
   "execution_count": 87,
   "metadata": {},
   "outputs": [
    {
     "data": {
      "text/plain": [
       "{'1980': nan,\n",
       " '1981': -0.8393817204301075,\n",
       " '1982': -4.0062465771722415,\n",
       " '1983': 4.426639144905272,\n",
       " '1984': 0.8606007480130903,\n",
       " '1985': -5.088677228799389,\n",
       " '1986': -1.5967961614542936,\n",
       " '1987': -4.486817467429025,\n",
       " '1988': 3.7748751920122916,\n",
       " '1989': 5.169125213197795,\n",
       " '1990': 4.134473818445594,\n",
       " '1991': 2.426396676053933,\n",
       " '1992': 2.4123653489580916,\n",
       " '1993': 2.6401006997781167,\n",
       " '1994': 2.584347122314374,\n",
       " '1995': 0.0717984188750316,\n",
       " '1996': -1.9506232641313286,\n",
       " '1997': -1.3173815172754044,\n",
       " '1998': 1.7182935978103728,\n",
       " '1999': 2.005883836022276,\n",
       " '2000': 2.667289939078285,\n",
       " '2001': 1.5487773375679825,\n",
       " '2002': 2.1770268075002708,\n",
       " '2003': -0.4005074507352264,\n",
       " '2004': -1.208181222467088,\n",
       " '2005': 3.6539707127318377,\n",
       " '2006': -1.3309671018945213,\n",
       " '2007': 4.2599241907037655,\n",
       " '2008': 3.6354390681003594,\n",
       " '2009': 0.9631537145650039,\n",
       " '2010': -2.5295698924731194,\n",
       " '2011': 0.20743727598566314,\n",
       " '2012': 2.1567980884109947,\n",
       " '2013': 0.5351142473118274,\n",
       " '2014': 2.1215490304199967,\n",
       " '2015': 3.0650089605734725,\n",
       " '2016': 0.6329351851851847,\n",
       " '2017': 1.3910095579450414,\n",
       " '2018': 2.7358952427500838}"
      ]
     },
     "execution_count": 87,
     "metadata": {},
     "output_type": "execute_result"
    }
   ],
   "source": [
    "average_temperature_dic"
   ]
  },
  {
   "cell_type": "code",
   "execution_count": 115,
   "metadata": {
    "id": "qkZ7RsEWAGI5"
   },
   "outputs": [
    {
     "data": {
      "text/html": [
       "<div>\n",
       "<style scoped>\n",
       "    .dataframe tbody tr th:only-of-type {\n",
       "        vertical-align: middle;\n",
       "    }\n",
       "\n",
       "    .dataframe tbody tr th {\n",
       "        vertical-align: top;\n",
       "    }\n",
       "\n",
       "    .dataframe thead th {\n",
       "        text-align: right;\n",
       "    }\n",
       "</style>\n",
       "<table border=\"1\" class=\"dataframe\">\n",
       "  <thead>\n",
       "    <tr style=\"text-align: right;\">\n",
       "      <th></th>\n",
       "      <th>Aalborg</th>\n",
       "      <th>Aarhus</th>\n",
       "      <th>Esbjerg</th>\n",
       "      <th>Odense</th>\n",
       "      <th>Roskilde</th>\n",
       "    </tr>\n",
       "  </thead>\n",
       "  <tbody>\n",
       "    <tr>\n",
       "      <th>1980</th>\n",
       "      <td>NaN</td>\n",
       "      <td>NaN</td>\n",
       "      <td>NaN</td>\n",
       "      <td>NaN</td>\n",
       "      <td>NaN</td>\n",
       "    </tr>\n",
       "    <tr>\n",
       "      <th>1981</th>\n",
       "      <td>4.961626</td>\n",
       "      <td>4.377957</td>\n",
       "      <td>5.31016</td>\n",
       "      <td>5.265679</td>\n",
       "      <td>5.060375</td>\n",
       "    </tr>\n",
       "    <tr>\n",
       "      <th>1982</th>\n",
       "      <td>3.871796</td>\n",
       "      <td>3.498363</td>\n",
       "      <td>4.602905</td>\n",
       "      <td>3.756475</td>\n",
       "      <td>3.976306</td>\n",
       "    </tr>\n",
       "    <tr>\n",
       "      <th>1983</th>\n",
       "      <td>7.882896</td>\n",
       "      <td>7.43704</td>\n",
       "      <td>9.316226</td>\n",
       "      <td>8.382798</td>\n",
       "      <td>8.179238</td>\n",
       "    </tr>\n",
       "    <tr>\n",
       "      <th>1984</th>\n",
       "      <td>6.636492</td>\n",
       "      <td>6.306038</td>\n",
       "      <td>7.280484</td>\n",
       "      <td>6.861571</td>\n",
       "      <td>7.138228</td>\n",
       "    </tr>\n",
       "    <tr>\n",
       "      <th>1985</th>\n",
       "      <td>4.108278</td>\n",
       "      <td>4.1151</td>\n",
       "      <td>5.223811</td>\n",
       "      <td>5.28649</td>\n",
       "      <td>5.05052</td>\n",
       "    </tr>\n",
       "    <tr>\n",
       "      <th>1986</th>\n",
       "      <td>4.418839</td>\n",
       "      <td>4.319114</td>\n",
       "      <td>5.67133</td>\n",
       "      <td>5.934596</td>\n",
       "      <td>5.762212</td>\n",
       "    </tr>\n",
       "    <tr>\n",
       "      <th>1987</th>\n",
       "      <td>4.783555</td>\n",
       "      <td>5.035263</td>\n",
       "      <td>5.620454</td>\n",
       "      <td>5.898586</td>\n",
       "      <td>5.121687</td>\n",
       "    </tr>\n",
       "    <tr>\n",
       "      <th>1988</th>\n",
       "      <td>5.635519</td>\n",
       "      <td>4.849198</td>\n",
       "      <td>5.021674</td>\n",
       "      <td>4.845647</td>\n",
       "      <td>5.421452</td>\n",
       "    </tr>\n",
       "    <tr>\n",
       "      <th>1989</th>\n",
       "      <td>7.65712</td>\n",
       "      <td>6.146813</td>\n",
       "      <td>5.995491</td>\n",
       "      <td>6.41607</td>\n",
       "      <td>6.157447</td>\n",
       "    </tr>\n",
       "    <tr>\n",
       "      <th>1990</th>\n",
       "      <td>7.247534</td>\n",
       "      <td>5.583073</td>\n",
       "      <td>6.892009</td>\n",
       "      <td>6.936745</td>\n",
       "      <td>7.06366</td>\n",
       "    </tr>\n",
       "    <tr>\n",
       "      <th>1991</th>\n",
       "      <td>5.615545</td>\n",
       "      <td>4.719143</td>\n",
       "      <td>5.893327</td>\n",
       "      <td>5.779511</td>\n",
       "      <td>5.632005</td>\n",
       "    </tr>\n",
       "    <tr>\n",
       "      <th>1992</th>\n",
       "      <td>6.125441</td>\n",
       "      <td>5.066301</td>\n",
       "      <td>6.003703</td>\n",
       "      <td>5.971039</td>\n",
       "      <td>5.421685</td>\n",
       "    </tr>\n",
       "    <tr>\n",
       "      <th>1993</th>\n",
       "      <td>7.790659</td>\n",
       "      <td>6.942092</td>\n",
       "      <td>7.87896</td>\n",
       "      <td>7.930916</td>\n",
       "      <td>7.678405</td>\n",
       "    </tr>\n",
       "    <tr>\n",
       "      <th>1994</th>\n",
       "      <td>6.185782</td>\n",
       "      <td>5.046126</td>\n",
       "      <td>6.817145</td>\n",
       "      <td>6.79092</td>\n",
       "      <td>6.839901</td>\n",
       "    </tr>\n",
       "    <tr>\n",
       "      <th>1995</th>\n",
       "      <td>5.062161</td>\n",
       "      <td>4.297325</td>\n",
       "      <td>5.662746</td>\n",
       "      <td>5.895834</td>\n",
       "      <td>6.229225</td>\n",
       "    </tr>\n",
       "    <tr>\n",
       "      <th>1996</th>\n",
       "      <td>4.99805</td>\n",
       "      <td>4.566087</td>\n",
       "      <td>5.286903</td>\n",
       "      <td>5.555276</td>\n",
       "      <td>5.61544</td>\n",
       "    </tr>\n",
       "    <tr>\n",
       "      <th>1997</th>\n",
       "      <td>3.932751</td>\n",
       "      <td>3.172549</td>\n",
       "      <td>3.666355</td>\n",
       "      <td>3.877219</td>\n",
       "      <td>3.730755</td>\n",
       "    </tr>\n",
       "    <tr>\n",
       "      <th>1998</th>\n",
       "      <td>4.59193</td>\n",
       "      <td>3.752623</td>\n",
       "      <td>4.707629</td>\n",
       "      <td>5.09054</td>\n",
       "      <td>4.86451</td>\n",
       "    </tr>\n",
       "    <tr>\n",
       "      <th>1999</th>\n",
       "      <td>5.609172</td>\n",
       "      <td>3.812636</td>\n",
       "      <td>5.552339</td>\n",
       "      <td>5.687633</td>\n",
       "      <td>5.230731</td>\n",
       "    </tr>\n",
       "    <tr>\n",
       "      <th>2000</th>\n",
       "      <td>6.383876</td>\n",
       "      <td>4.997751</td>\n",
       "      <td>6.790326</td>\n",
       "      <td>6.954528</td>\n",
       "      <td>6.414701</td>\n",
       "    </tr>\n",
       "    <tr>\n",
       "      <th>2001</th>\n",
       "      <td>4.442392</td>\n",
       "      <td>3.168949</td>\n",
       "      <td>4.142082</td>\n",
       "      <td>4.473704</td>\n",
       "      <td>4.683687</td>\n",
       "    </tr>\n",
       "    <tr>\n",
       "      <th>2002</th>\n",
       "      <td>5.833123</td>\n",
       "      <td>4.117922</td>\n",
       "      <td>5.868855</td>\n",
       "      <td>6.299722</td>\n",
       "      <td>6.023536</td>\n",
       "    </tr>\n",
       "    <tr>\n",
       "      <th>2003</th>\n",
       "      <td>5.345972</td>\n",
       "      <td>4.114032</td>\n",
       "      <td>5.394688</td>\n",
       "      <td>5.941504</td>\n",
       "      <td>5.351453</td>\n",
       "    </tr>\n",
       "    <tr>\n",
       "      <th>2004</th>\n",
       "      <td>4.10456</td>\n",
       "      <td>3.140371</td>\n",
       "      <td>4.295231</td>\n",
       "      <td>4.436136</td>\n",
       "      <td>4.545857</td>\n",
       "    </tr>\n",
       "    <tr>\n",
       "      <th>2005</th>\n",
       "      <td>6.636669</td>\n",
       "      <td>5.020995</td>\n",
       "      <td>7.097631</td>\n",
       "      <td>7.230341</td>\n",
       "      <td>6.439905</td>\n",
       "    </tr>\n",
       "    <tr>\n",
       "      <th>2006</th>\n",
       "      <td>4.208881</td>\n",
       "      <td>3.518352</td>\n",
       "      <td>3.9344</td>\n",
       "      <td>4.111022</td>\n",
       "      <td>4.388145</td>\n",
       "    </tr>\n",
       "    <tr>\n",
       "      <th>2007</th>\n",
       "      <td>6.920981</td>\n",
       "      <td>5.838128</td>\n",
       "      <td>7.949493</td>\n",
       "      <td>6.93451</td>\n",
       "      <td>7.531572</td>\n",
       "    </tr>\n",
       "    <tr>\n",
       "      <th>2008</th>\n",
       "      <td>7.399328</td>\n",
       "      <td>5.259722</td>\n",
       "      <td>6.977248</td>\n",
       "      <td>6.955413</td>\n",
       "      <td>6.690428</td>\n",
       "    </tr>\n",
       "    <tr>\n",
       "      <th>2009</th>\n",
       "      <td>5.028551</td>\n",
       "      <td>3.515488</td>\n",
       "      <td>4.129234</td>\n",
       "      <td>4.602116</td>\n",
       "      <td>4.317486</td>\n",
       "    </tr>\n",
       "    <tr>\n",
       "      <th>2010</th>\n",
       "      <td>4.178663</td>\n",
       "      <td>4.26147</td>\n",
       "      <td>4.443324</td>\n",
       "      <td>5.194495</td>\n",
       "      <td>5.017742</td>\n",
       "    </tr>\n",
       "    <tr>\n",
       "      <th>2011</th>\n",
       "      <td>4.168907</td>\n",
       "      <td>3.389695</td>\n",
       "      <td>4.761313</td>\n",
       "      <td>4.2656</td>\n",
       "      <td>4.251895</td>\n",
       "    </tr>\n",
       "    <tr>\n",
       "      <th>2012</th>\n",
       "      <td>5.135125</td>\n",
       "      <td>4.489807</td>\n",
       "      <td>6.255556</td>\n",
       "      <td>5.388894</td>\n",
       "      <td>5.896597</td>\n",
       "    </tr>\n",
       "    <tr>\n",
       "      <th>2013</th>\n",
       "      <td>4.078853</td>\n",
       "      <td>4.027513</td>\n",
       "      <td>5.145161</td>\n",
       "      <td>4.938441</td>\n",
       "      <td>4.507012</td>\n",
       "    </tr>\n",
       "    <tr>\n",
       "      <th>2014</th>\n",
       "      <td>7.440815</td>\n",
       "      <td>5.788416</td>\n",
       "      <td>5.780765</td>\n",
       "      <td>6.967602</td>\n",
       "      <td>7.744489</td>\n",
       "    </tr>\n",
       "    <tr>\n",
       "      <th>2015</th>\n",
       "      <td>5.984711</td>\n",
       "      <td>4.397625</td>\n",
       "      <td>5.603136</td>\n",
       "      <td>5.87897</td>\n",
       "      <td>5.853987</td>\n",
       "    </tr>\n",
       "    <tr>\n",
       "      <th>2016</th>\n",
       "      <td>5.130735</td>\n",
       "      <td>3.834946</td>\n",
       "      <td>5.283072</td>\n",
       "      <td>5.403187</td>\n",
       "      <td>5.509812</td>\n",
       "    </tr>\n",
       "    <tr>\n",
       "      <th>2017</th>\n",
       "      <td>4.35118</td>\n",
       "      <td>3.226449</td>\n",
       "      <td>4.383313</td>\n",
       "      <td>4.443978</td>\n",
       "      <td>4.076389</td>\n",
       "    </tr>\n",
       "    <tr>\n",
       "      <th>2018</th>\n",
       "      <td>4.8819</td>\n",
       "      <td>3.410195</td>\n",
       "      <td>4.405824</td>\n",
       "      <td>4.921107</td>\n",
       "      <td>4.938633</td>\n",
       "    </tr>\n",
       "  </tbody>\n",
       "</table>\n",
       "</div>"
      ],
      "text/plain": [
       "       Aalborg    Aarhus   Esbjerg    Odense  Roskilde\n",
       "1980       NaN       NaN       NaN       NaN       NaN\n",
       "1981  4.961626  4.377957   5.31016  5.265679  5.060375\n",
       "1982  3.871796  3.498363  4.602905  3.756475  3.976306\n",
       "1983  7.882896   7.43704  9.316226  8.382798  8.179238\n",
       "1984  6.636492  6.306038  7.280484  6.861571  7.138228\n",
       "1985  4.108278    4.1151  5.223811   5.28649   5.05052\n",
       "1986  4.418839  4.319114   5.67133  5.934596  5.762212\n",
       "1987  4.783555  5.035263  5.620454  5.898586  5.121687\n",
       "1988  5.635519  4.849198  5.021674  4.845647  5.421452\n",
       "1989   7.65712  6.146813  5.995491   6.41607  6.157447\n",
       "1990  7.247534  5.583073  6.892009  6.936745   7.06366\n",
       "1991  5.615545  4.719143  5.893327  5.779511  5.632005\n",
       "1992  6.125441  5.066301  6.003703  5.971039  5.421685\n",
       "1993  7.790659  6.942092   7.87896  7.930916  7.678405\n",
       "1994  6.185782  5.046126  6.817145   6.79092  6.839901\n",
       "1995  5.062161  4.297325  5.662746  5.895834  6.229225\n",
       "1996   4.99805  4.566087  5.286903  5.555276   5.61544\n",
       "1997  3.932751  3.172549  3.666355  3.877219  3.730755\n",
       "1998   4.59193  3.752623  4.707629   5.09054   4.86451\n",
       "1999  5.609172  3.812636  5.552339  5.687633  5.230731\n",
       "2000  6.383876  4.997751  6.790326  6.954528  6.414701\n",
       "2001  4.442392  3.168949  4.142082  4.473704  4.683687\n",
       "2002  5.833123  4.117922  5.868855  6.299722  6.023536\n",
       "2003  5.345972  4.114032  5.394688  5.941504  5.351453\n",
       "2004   4.10456  3.140371  4.295231  4.436136  4.545857\n",
       "2005  6.636669  5.020995  7.097631  7.230341  6.439905\n",
       "2006  4.208881  3.518352    3.9344  4.111022  4.388145\n",
       "2007  6.920981  5.838128  7.949493   6.93451  7.531572\n",
       "2008  7.399328  5.259722  6.977248  6.955413  6.690428\n",
       "2009  5.028551  3.515488  4.129234  4.602116  4.317486\n",
       "2010  4.178663   4.26147  4.443324  5.194495  5.017742\n",
       "2011  4.168907  3.389695  4.761313    4.2656  4.251895\n",
       "2012  5.135125  4.489807  6.255556  5.388894  5.896597\n",
       "2013  4.078853  4.027513  5.145161  4.938441  4.507012\n",
       "2014  7.440815  5.788416  5.780765  6.967602  7.744489\n",
       "2015  5.984711  4.397625  5.603136   5.87897  5.853987\n",
       "2016  5.130735  3.834946  5.283072  5.403187  5.509812\n",
       "2017   4.35118  3.226449  4.383313  4.443978  4.076389\n",
       "2018    4.8819  3.410195  4.405824  4.921107  4.938633"
      ]
     },
     "execution_count": 115,
     "metadata": {},
     "output_type": "execute_result"
    }
   ],
   "source": [
    "###########################\n",
    "# Task: \n",
    "#   plot average wind speed variance in January from 1980 to 2018.\n",
    "#\n",
    "###########################\n",
    "#df_resampled\n",
    "\n",
    "### TO DO\n",
    "years = list(range(1980,2019))\n",
    "years = list(map(str,years))\n",
    "citys = ['Aalborg', 'Aarhus', 'Esbjerg', 'Odense', 'Roskilde']\n",
    "\n",
    "wind_speed = df_resampled.xs(weather_features[3],axis = 1, level = 1)\n",
    "#wind_speed = wind_speed.filter(like = '-01-', axis = 0)\n",
    "mean_wind_speed = pd.DataFrame(index = years, columns = wind_speed.columns)\n",
    "\n",
    "for year in years:\n",
    "    for city in cities:\n",
    "        mean_wind_speed.loc[year,city] = wind_speed.loc[year+'-01-01 00:00:00':year+'-01-31 23:00:00',city].mean()\n",
    "\n",
    "mean_wind_speed\n",
    "#########"
   ]
  },
  {
   "cell_type": "code",
   "execution_count": 203,
   "metadata": {},
   "outputs": [
    {
     "data": {
      "text/plain": [
       "{'January': '31',\n",
       " 'February': '28',\n",
       " ',March': '31',\n",
       " 'April': '30',\n",
       " 'May': '31',\n",
       " 'June': '30',\n",
       " 'July': '31',\n",
       " 'August': '31',\n",
       " 'September': '30',\n",
       " 'October': '31',\n",
       " 'November': '30',\n",
       " 'December': '31'}"
      ]
     },
     "execution_count": 203,
     "metadata": {},
     "output_type": "execute_result"
    }
   ],
   "source": [
    "months = dict(zip(['January','February',',March','April','May','June','July','August','September','October','November','December'],map(str,[31,28,31,30,31,30,31,31,30,31,30,31])))\n",
    "months"
   ]
  },
  {
   "cell_type": "code",
   "execution_count": 205,
   "metadata": {},
   "outputs": [
    {
     "data": {
      "text/html": [
       "<div>\n",
       "<style scoped>\n",
       "    .dataframe tbody tr th:only-of-type {\n",
       "        vertical-align: middle;\n",
       "    }\n",
       "\n",
       "    .dataframe tbody tr th {\n",
       "        vertical-align: top;\n",
       "    }\n",
       "\n",
       "    .dataframe thead tr th {\n",
       "        text-align: left;\n",
       "    }\n",
       "</style>\n",
       "<table border=\"1\" class=\"dataframe\">\n",
       "  <thead>\n",
       "    <tr>\n",
       "      <th></th>\n",
       "      <th colspan=\"4\" halign=\"left\">Aalborg</th>\n",
       "      <th colspan=\"4\" halign=\"left\">Aarhus</th>\n",
       "      <th colspan=\"4\" halign=\"left\">Esbjerg</th>\n",
       "      <th colspan=\"4\" halign=\"left\">Odense</th>\n",
       "      <th colspan=\"4\" halign=\"left\">Roskilde</th>\n",
       "    </tr>\n",
       "    <tr>\n",
       "      <th></th>\n",
       "      <th>Temp</th>\n",
       "      <th>Pressure</th>\n",
       "      <th>WindSpeed</th>\n",
       "      <th>WindDir</th>\n",
       "      <th>Temp</th>\n",
       "      <th>Pressure</th>\n",
       "      <th>WindSpeed</th>\n",
       "      <th>WindDir</th>\n",
       "      <th>Temp</th>\n",
       "      <th>Pressure</th>\n",
       "      <th>WindSpeed</th>\n",
       "      <th>WindDir</th>\n",
       "      <th>Temp</th>\n",
       "      <th>Pressure</th>\n",
       "      <th>WindSpeed</th>\n",
       "      <th>WindDir</th>\n",
       "      <th>Temp</th>\n",
       "      <th>Pressure</th>\n",
       "      <th>WindSpeed</th>\n",
       "      <th>WindDir</th>\n",
       "    </tr>\n",
       "  </thead>\n",
       "  <tbody>\n",
       "    <tr>\n",
       "      <th>count</th>\n",
       "      <td>333110.000000</td>\n",
       "      <td>333110.000000</td>\n",
       "      <td>333110.000000</td>\n",
       "      <td>333110.000000</td>\n",
       "      <td>333110.000000</td>\n",
       "      <td>333110.000000</td>\n",
       "      <td>333110.000000</td>\n",
       "      <td>333110.000000</td>\n",
       "      <td>333109.000000</td>\n",
       "      <td>332070.000000</td>\n",
       "      <td>333109.000000</td>\n",
       "      <td>333109.000000</td>\n",
       "      <td>333110.000000</td>\n",
       "      <td>333110.000000</td>\n",
       "      <td>333110.000000</td>\n",
       "      <td>333110.000000</td>\n",
       "      <td>333109.000000</td>\n",
       "      <td>332346.000000</td>\n",
       "      <td>333109.000000</td>\n",
       "      <td>333109.000000</td>\n",
       "    </tr>\n",
       "    <tr>\n",
       "      <th>mean</th>\n",
       "      <td>8.323675</td>\n",
       "      <td>1012.743473</td>\n",
       "      <td>4.867406</td>\n",
       "      <td>192.307074</td>\n",
       "      <td>8.290577</td>\n",
       "      <td>1013.352071</td>\n",
       "      <td>4.036376</td>\n",
       "      <td>201.261096</td>\n",
       "      <td>8.537116</td>\n",
       "      <td>1013.131439</td>\n",
       "      <td>4.892615</td>\n",
       "      <td>201.758338</td>\n",
       "      <td>8.802755</td>\n",
       "      <td>1013.805596</td>\n",
       "      <td>4.848788</td>\n",
       "      <td>195.840053</td>\n",
       "      <td>8.264180</td>\n",
       "      <td>1012.839357</td>\n",
       "      <td>4.835396</td>\n",
       "      <td>202.708912</td>\n",
       "    </tr>\n",
       "    <tr>\n",
       "      <th>std</th>\n",
       "      <td>6.986639</td>\n",
       "      <td>11.690186</td>\n",
       "      <td>2.793941</td>\n",
       "      <td>88.071567</td>\n",
       "      <td>7.027572</td>\n",
       "      <td>11.277480</td>\n",
       "      <td>2.549404</td>\n",
       "      <td>82.166840</td>\n",
       "      <td>6.743867</td>\n",
       "      <td>10.904699</td>\n",
       "      <td>2.681328</td>\n",
       "      <td>87.880378</td>\n",
       "      <td>6.924723</td>\n",
       "      <td>10.958942</td>\n",
       "      <td>2.768103</td>\n",
       "      <td>83.739036</td>\n",
       "      <td>7.124592</td>\n",
       "      <td>11.739851</td>\n",
       "      <td>2.755634</td>\n",
       "      <td>86.188538</td>\n",
       "    </tr>\n",
       "    <tr>\n",
       "      <th>min</th>\n",
       "      <td>-25.000000</td>\n",
       "      <td>951.900000</td>\n",
       "      <td>0.000000</td>\n",
       "      <td>10.000000</td>\n",
       "      <td>-24.300000</td>\n",
       "      <td>955.500000</td>\n",
       "      <td>0.000000</td>\n",
       "      <td>10.000000</td>\n",
       "      <td>-27.000000</td>\n",
       "      <td>959.300000</td>\n",
       "      <td>0.000000</td>\n",
       "      <td>10.000000</td>\n",
       "      <td>-22.500000</td>\n",
       "      <td>959.700000</td>\n",
       "      <td>0.000000</td>\n",
       "      <td>10.000000</td>\n",
       "      <td>-21.833333</td>\n",
       "      <td>959.800000</td>\n",
       "      <td>0.000000</td>\n",
       "      <td>10.000000</td>\n",
       "    </tr>\n",
       "    <tr>\n",
       "      <th>25%</th>\n",
       "      <td>3.100000</td>\n",
       "      <td>1005.700000</td>\n",
       "      <td>2.666667</td>\n",
       "      <td>116.666667</td>\n",
       "      <td>3.000000</td>\n",
       "      <td>1006.600000</td>\n",
       "      <td>2.100000</td>\n",
       "      <td>140.000000</td>\n",
       "      <td>4.000000</td>\n",
       "      <td>1006.954601</td>\n",
       "      <td>2.933333</td>\n",
       "      <td>126.666667</td>\n",
       "      <td>3.700000</td>\n",
       "      <td>1007.300000</td>\n",
       "      <td>2.766667</td>\n",
       "      <td>126.666667</td>\n",
       "      <td>3.000000</td>\n",
       "      <td>1006.100000</td>\n",
       "      <td>2.766667</td>\n",
       "      <td>130.000000</td>\n",
       "    </tr>\n",
       "    <tr>\n",
       "      <th>50%</th>\n",
       "      <td>8.100000</td>\n",
       "      <td>1013.400000</td>\n",
       "      <td>4.600000</td>\n",
       "      <td>210.000000</td>\n",
       "      <td>8.000000</td>\n",
       "      <td>1014.000000</td>\n",
       "      <td>3.600000</td>\n",
       "      <td>213.333333</td>\n",
       "      <td>8.333333</td>\n",
       "      <td>1014.127073</td>\n",
       "      <td>4.516667</td>\n",
       "      <td>216.666667</td>\n",
       "      <td>8.600000</td>\n",
       "      <td>1014.433333</td>\n",
       "      <td>4.600000</td>\n",
       "      <td>210.000000</td>\n",
       "      <td>8.000000</td>\n",
       "      <td>1013.833333</td>\n",
       "      <td>4.433333</td>\n",
       "      <td>220.000000</td>\n",
       "    </tr>\n",
       "    <tr>\n",
       "      <th>75%</th>\n",
       "      <td>13.600000</td>\n",
       "      <td>1020.500000</td>\n",
       "      <td>6.700000</td>\n",
       "      <td>260.000000</td>\n",
       "      <td>13.500000</td>\n",
       "      <td>1020.800000</td>\n",
       "      <td>5.600000</td>\n",
       "      <td>270.000000</td>\n",
       "      <td>13.582857</td>\n",
       "      <td>1019.861904</td>\n",
       "      <td>6.533333</td>\n",
       "      <td>273.703704</td>\n",
       "      <td>13.950000</td>\n",
       "      <td>1021.000000</td>\n",
       "      <td>6.635696</td>\n",
       "      <td>260.000000</td>\n",
       "      <td>13.700000</td>\n",
       "      <td>1020.700000</td>\n",
       "      <td>6.574359</td>\n",
       "      <td>270.000000</td>\n",
       "    </tr>\n",
       "    <tr>\n",
       "      <th>max</th>\n",
       "      <td>30.800000</td>\n",
       "      <td>1050.800000</td>\n",
       "      <td>32.900000</td>\n",
       "      <td>360.000000</td>\n",
       "      <td>30.900000</td>\n",
       "      <td>1050.000000</td>\n",
       "      <td>33.400000</td>\n",
       "      <td>360.000000</td>\n",
       "      <td>54.000000</td>\n",
       "      <td>1049.300000</td>\n",
       "      <td>39.100000</td>\n",
       "      <td>360.000000</td>\n",
       "      <td>49.900000</td>\n",
       "      <td>1048.900000</td>\n",
       "      <td>62.521795</td>\n",
       "      <td>360.000000</td>\n",
       "      <td>32.000000</td>\n",
       "      <td>1048.100000</td>\n",
       "      <td>25.000000</td>\n",
       "      <td>360.000000</td>\n",
       "    </tr>\n",
       "  </tbody>\n",
       "</table>\n",
       "</div>"
      ],
      "text/plain": [
       "             Aalborg                                               \\\n",
       "                Temp       Pressure      WindSpeed        WindDir   \n",
       "count  333110.000000  333110.000000  333110.000000  333110.000000   \n",
       "mean        8.323675    1012.743473       4.867406     192.307074   \n",
       "std         6.986639      11.690186       2.793941      88.071567   \n",
       "min       -25.000000     951.900000       0.000000      10.000000   \n",
       "25%         3.100000    1005.700000       2.666667     116.666667   \n",
       "50%         8.100000    1013.400000       4.600000     210.000000   \n",
       "75%        13.600000    1020.500000       6.700000     260.000000   \n",
       "max        30.800000    1050.800000      32.900000     360.000000   \n",
       "\n",
       "              Aarhus                                               \\\n",
       "                Temp       Pressure      WindSpeed        WindDir   \n",
       "count  333110.000000  333110.000000  333110.000000  333110.000000   \n",
       "mean        8.290577    1013.352071       4.036376     201.261096   \n",
       "std         7.027572      11.277480       2.549404      82.166840   \n",
       "min       -24.300000     955.500000       0.000000      10.000000   \n",
       "25%         3.000000    1006.600000       2.100000     140.000000   \n",
       "50%         8.000000    1014.000000       3.600000     213.333333   \n",
       "75%        13.500000    1020.800000       5.600000     270.000000   \n",
       "max        30.900000    1050.000000      33.400000     360.000000   \n",
       "\n",
       "             Esbjerg                                               \\\n",
       "                Temp       Pressure      WindSpeed        WindDir   \n",
       "count  333109.000000  332070.000000  333109.000000  333109.000000   \n",
       "mean        8.537116    1013.131439       4.892615     201.758338   \n",
       "std         6.743867      10.904699       2.681328      87.880378   \n",
       "min       -27.000000     959.300000       0.000000      10.000000   \n",
       "25%         4.000000    1006.954601       2.933333     126.666667   \n",
       "50%         8.333333    1014.127073       4.516667     216.666667   \n",
       "75%        13.582857    1019.861904       6.533333     273.703704   \n",
       "max        54.000000    1049.300000      39.100000     360.000000   \n",
       "\n",
       "              Odense                                               \\\n",
       "                Temp       Pressure      WindSpeed        WindDir   \n",
       "count  333110.000000  333110.000000  333110.000000  333110.000000   \n",
       "mean        8.802755    1013.805596       4.848788     195.840053   \n",
       "std         6.924723      10.958942       2.768103      83.739036   \n",
       "min       -22.500000     959.700000       0.000000      10.000000   \n",
       "25%         3.700000    1007.300000       2.766667     126.666667   \n",
       "50%         8.600000    1014.433333       4.600000     210.000000   \n",
       "75%        13.950000    1021.000000       6.635696     260.000000   \n",
       "max        49.900000    1048.900000      62.521795     360.000000   \n",
       "\n",
       "            Roskilde                                               \n",
       "                Temp       Pressure      WindSpeed        WindDir  \n",
       "count  333109.000000  332346.000000  333109.000000  333109.000000  \n",
       "mean        8.264180    1012.839357       4.835396     202.708912  \n",
       "std         7.124592      11.739851       2.755634      86.188538  \n",
       "min       -21.833333     959.800000       0.000000      10.000000  \n",
       "25%         3.000000    1006.100000       2.766667     130.000000  \n",
       "50%         8.000000    1013.833333       4.433333     220.000000  \n",
       "75%        13.700000    1020.700000       6.574359     270.000000  \n",
       "max        32.000000    1048.100000      25.000000     360.000000  "
      ]
     },
     "execution_count": 205,
     "metadata": {},
     "output_type": "execute_result"
    }
   ],
   "source": [
    "df_resampled.describe()"
   ]
  },
  {
   "cell_type": "code",
   "execution_count": 216,
   "metadata": {
    "id": "HOXHM8mqAGI6"
   },
   "outputs": [
    {
     "data": {
      "text/plain": [
       "[<matplotlib.lines.Line2D at 0x217a0502608>,\n",
       " <matplotlib.lines.Line2D at 0x217a262de08>,\n",
       " <matplotlib.lines.Line2D at 0x217a04a3ac8>,\n",
       " <matplotlib.lines.Line2D at 0x217a04a37c8>,\n",
       " <matplotlib.lines.Line2D at 0x2179d425588>]"
      ]
     },
     "execution_count": 216,
     "metadata": {},
     "output_type": "execute_result"
    },
    {
     "data": {
      "image/png": "[encoded data removed]",
      "text/plain": [
       "<Figure size 1152x720 with 1 Axes>"
      ]
     },
     "metadata": {
      "needs_background": "light"
     },
     "output_type": "display_data"
    }
   ],
   "source": [
    "###########################\n",
    "# Task: \n",
    "#   plot maximum temperature in May from 1980 to 2018.\n",
    "#\n",
    "###########################\n",
    "def general_func_2DP(df,month,method,feature):\n",
    "    \n",
    "    years = list(range(1980,2019))\n",
    "    years = list(map(str,years))\n",
    "    cities = ['Aalborg', 'Aarhus', 'Esbjerg', 'Odense', 'Roskilde']\n",
    "    months = dict(zip(['January','February',',March','April','May','June','July','August','September','October','November','December'],map(str,[31,28,31,30,31,30,31,31,30,31,30,31])))\n",
    "    \n",
    "    df_temp = df.xs(feature, axis = 1, level = 1)\n",
    "    \n",
    "    df_result = pd.DataFrame(index = years, columns = df_temp.columns)\n",
    "    \n",
    "    for year in years:\n",
    "        for city in cities:\n",
    "            if method == 'max':\n",
    "                df_result.loc[year,city] = df_temp.loc[year+'-'+month+'-01'+' 00:00:00':year+'-'+month+'-'+months[month]+' 23:00:00',city].max()\n",
    "            elif method == 'min':\n",
    "                df_result.loc[year,city] = df_temp.loc[year+'-'+month+'-01'+' 00:00:00':year+'-'+month+'-'+months[month]+' 23:00:00',city].min()\n",
    "            elif method == 'mean':\n",
    "                df_result.loc[year,city] = df_temp.loc[year+'-'+month+'-01'+' 00:00:00':year+'-'+month+'-'+months[month]+' 23:00:00',city].mean()\n",
    "                \n",
    "    return df_result\n",
    "                \n",
    "## TO DO\n",
    "\n",
    "Max_Temp_May = general_func_2DP(df_resampled,'May','max','Temp')\n",
    "\n",
    "fig,ax = plt.subplots(figsize = (16,10))\n",
    "\n",
    "ax.plot(Max_Temp_May)\n",
    "#########\n"
   ]
  },
  {
   "cell_type": "code",
   "execution_count": 217,
   "metadata": {},
   "outputs": [
    {
     "data": {
      "text/html": [
       "<div>\n",
       "<style scoped>\n",
       "    .dataframe tbody tr th:only-of-type {\n",
       "        vertical-align: middle;\n",
       "    }\n",
       "\n",
       "    .dataframe tbody tr th {\n",
       "        vertical-align: top;\n",
       "    }\n",
       "\n",
       "    .dataframe thead th {\n",
       "        text-align: right;\n",
       "    }\n",
       "</style>\n",
       "<table border=\"1\" class=\"dataframe\">\n",
       "  <thead>\n",
       "    <tr style=\"text-align: right;\">\n",
       "      <th></th>\n",
       "      <th>Aalborg</th>\n",
       "      <th>Aarhus</th>\n",
       "      <th>Esbjerg</th>\n",
       "      <th>Odense</th>\n",
       "      <th>Roskilde</th>\n",
       "    </tr>\n",
       "  </thead>\n",
       "  <tbody>\n",
       "    <tr>\n",
       "      <th>1980</th>\n",
       "      <td>24.0</td>\n",
       "      <td>24.0</td>\n",
       "      <td>25.0</td>\n",
       "      <td>25.0</td>\n",
       "      <td>22.0</td>\n",
       "    </tr>\n",
       "    <tr>\n",
       "      <th>1981</th>\n",
       "      <td>25.0</td>\n",
       "      <td>24.0</td>\n",
       "      <td>25.0</td>\n",
       "      <td>23.666667</td>\n",
       "      <td>23.0</td>\n",
       "    </tr>\n",
       "    <tr>\n",
       "      <th>1982</th>\n",
       "      <td>21.7</td>\n",
       "      <td>23.2</td>\n",
       "      <td>25.0</td>\n",
       "      <td>25.0</td>\n",
       "      <td>22.0</td>\n",
       "    </tr>\n",
       "    <tr>\n",
       "      <th>1983</th>\n",
       "      <td>16.0</td>\n",
       "      <td>18.0</td>\n",
       "      <td>18.0</td>\n",
       "      <td>18.0</td>\n",
       "      <td>18.0</td>\n",
       "    </tr>\n",
       "    <tr>\n",
       "      <th>1984</th>\n",
       "      <td>24.2</td>\n",
       "      <td>24.0</td>\n",
       "      <td>22.0</td>\n",
       "      <td>21.833333</td>\n",
       "      <td>21.0</td>\n",
       "    </tr>\n",
       "    <tr>\n",
       "      <th>1985</th>\n",
       "      <td>24.5</td>\n",
       "      <td>24.6</td>\n",
       "      <td>26.6</td>\n",
       "      <td>25.1</td>\n",
       "      <td>23.833333</td>\n",
       "    </tr>\n",
       "    <tr>\n",
       "      <th>1986</th>\n",
       "      <td>20.333333</td>\n",
       "      <td>21.0</td>\n",
       "      <td>22.833333</td>\n",
       "      <td>20.833333</td>\n",
       "      <td>21.0</td>\n",
       "    </tr>\n",
       "    <tr>\n",
       "      <th>1987</th>\n",
       "      <td>20.333333</td>\n",
       "      <td>23.0</td>\n",
       "      <td>21.0</td>\n",
       "      <td>20.4</td>\n",
       "      <td>19.833333</td>\n",
       "    </tr>\n",
       "    <tr>\n",
       "      <th>1988</th>\n",
       "      <td>24.8</td>\n",
       "      <td>24.2</td>\n",
       "      <td>25.833333</td>\n",
       "      <td>24.3</td>\n",
       "      <td>23.3</td>\n",
       "    </tr>\n",
       "    <tr>\n",
       "      <th>1989</th>\n",
       "      <td>26.5</td>\n",
       "      <td>24.0</td>\n",
       "      <td>25.0</td>\n",
       "      <td>26.1</td>\n",
       "      <td>24.5</td>\n",
       "    </tr>\n",
       "    <tr>\n",
       "      <th>1990</th>\n",
       "      <td>25.0</td>\n",
       "      <td>25.0</td>\n",
       "      <td>24.916667</td>\n",
       "      <td>24.916667</td>\n",
       "      <td>22.0</td>\n",
       "    </tr>\n",
       "    <tr>\n",
       "      <th>1991</th>\n",
       "      <td>21.7</td>\n",
       "      <td>22.666667</td>\n",
       "      <td>20.833333</td>\n",
       "      <td>22.833333</td>\n",
       "      <td>20.6</td>\n",
       "    </tr>\n",
       "    <tr>\n",
       "      <th>1992</th>\n",
       "      <td>25.0</td>\n",
       "      <td>25.0</td>\n",
       "      <td>25.833333</td>\n",
       "      <td>25.0</td>\n",
       "      <td>25.0</td>\n",
       "    </tr>\n",
       "    <tr>\n",
       "      <th>1993</th>\n",
       "      <td>25.0</td>\n",
       "      <td>25.0</td>\n",
       "      <td>25.833333</td>\n",
       "      <td>25.833333</td>\n",
       "      <td>24.0</td>\n",
       "    </tr>\n",
       "    <tr>\n",
       "      <th>1994</th>\n",
       "      <td>20.0</td>\n",
       "      <td>21.0</td>\n",
       "      <td>20.9</td>\n",
       "      <td>21.0</td>\n",
       "      <td>20.0</td>\n",
       "    </tr>\n",
       "    <tr>\n",
       "      <th>1995</th>\n",
       "      <td>20.777778</td>\n",
       "      <td>22.0</td>\n",
       "      <td>21.666667</td>\n",
       "      <td>22.3</td>\n",
       "      <td>21.671429</td>\n",
       "    </tr>\n",
       "    <tr>\n",
       "      <th>1996</th>\n",
       "      <td>21.0</td>\n",
       "      <td>21.857143</td>\n",
       "      <td>19.833333</td>\n",
       "      <td>24.0</td>\n",
       "      <td>21.0</td>\n",
       "    </tr>\n",
       "    <tr>\n",
       "      <th>1997</th>\n",
       "      <td>17.833333</td>\n",
       "      <td>19.0</td>\n",
       "      <td>22.0</td>\n",
       "      <td>19.3</td>\n",
       "      <td>19.4</td>\n",
       "    </tr>\n",
       "    <tr>\n",
       "      <th>1998</th>\n",
       "      <td>21.1</td>\n",
       "      <td>21.871429</td>\n",
       "      <td>23.0</td>\n",
       "      <td>23.2</td>\n",
       "      <td>24.6</td>\n",
       "    </tr>\n",
       "    <tr>\n",
       "      <th>1999</th>\n",
       "      <td>23.2</td>\n",
       "      <td>23.0</td>\n",
       "      <td>26.183333</td>\n",
       "      <td>26.6</td>\n",
       "      <td>22.4</td>\n",
       "    </tr>\n",
       "    <tr>\n",
       "      <th>2000</th>\n",
       "      <td>25.166667</td>\n",
       "      <td>26.4</td>\n",
       "      <td>26.3</td>\n",
       "      <td>28.2</td>\n",
       "      <td>27.0</td>\n",
       "    </tr>\n",
       "    <tr>\n",
       "      <th>2001</th>\n",
       "      <td>21.0</td>\n",
       "      <td>22.1</td>\n",
       "      <td>24.833333</td>\n",
       "      <td>22.0</td>\n",
       "      <td>22.833333</td>\n",
       "    </tr>\n",
       "    <tr>\n",
       "      <th>2002</th>\n",
       "      <td>22.3</td>\n",
       "      <td>21.1</td>\n",
       "      <td>23.666667</td>\n",
       "      <td>23.0</td>\n",
       "      <td>20.7</td>\n",
       "    </tr>\n",
       "    <tr>\n",
       "      <th>2003</th>\n",
       "      <td>20.666667</td>\n",
       "      <td>20.0</td>\n",
       "      <td>20.666667</td>\n",
       "      <td>22.2</td>\n",
       "      <td>22.8</td>\n",
       "    </tr>\n",
       "    <tr>\n",
       "      <th>2004</th>\n",
       "      <td>23.333333</td>\n",
       "      <td>20.0</td>\n",
       "      <td>22.4</td>\n",
       "      <td>21.3</td>\n",
       "      <td>21.0</td>\n",
       "    </tr>\n",
       "    <tr>\n",
       "      <th>2005</th>\n",
       "      <td>24.7</td>\n",
       "      <td>23.0</td>\n",
       "      <td>24.1</td>\n",
       "      <td>30.4</td>\n",
       "      <td>25.5</td>\n",
       "    </tr>\n",
       "    <tr>\n",
       "      <th>2006</th>\n",
       "      <td>23.3</td>\n",
       "      <td>22.7</td>\n",
       "      <td>23.5</td>\n",
       "      <td>49.9</td>\n",
       "      <td>22.0</td>\n",
       "    </tr>\n",
       "    <tr>\n",
       "      <th>2007</th>\n",
       "      <td>19.4</td>\n",
       "      <td>19.4</td>\n",
       "      <td>22.0</td>\n",
       "      <td>23.2</td>\n",
       "      <td>23.333333</td>\n",
       "    </tr>\n",
       "    <tr>\n",
       "      <th>2008</th>\n",
       "      <td>25.3</td>\n",
       "      <td>23.1</td>\n",
       "      <td>27.0</td>\n",
       "      <td>25.0</td>\n",
       "      <td>23.6</td>\n",
       "    </tr>\n",
       "    <tr>\n",
       "      <th>2009</th>\n",
       "      <td>24.4</td>\n",
       "      <td>22.3</td>\n",
       "      <td>25.0</td>\n",
       "      <td>21.9</td>\n",
       "      <td>25.0</td>\n",
       "    </tr>\n",
       "    <tr>\n",
       "      <th>2010</th>\n",
       "      <td>22.8</td>\n",
       "      <td>22.0</td>\n",
       "      <td>22.0</td>\n",
       "      <td>21.1</td>\n",
       "      <td>20.4</td>\n",
       "    </tr>\n",
       "    <tr>\n",
       "      <th>2011</th>\n",
       "      <td>22.4</td>\n",
       "      <td>21.8</td>\n",
       "      <td>24.0</td>\n",
       "      <td>21.8</td>\n",
       "      <td>24.0</td>\n",
       "    </tr>\n",
       "    <tr>\n",
       "      <th>2012</th>\n",
       "      <td>27.0</td>\n",
       "      <td>25.6</td>\n",
       "      <td>27.0</td>\n",
       "      <td>25.0</td>\n",
       "      <td>26.5</td>\n",
       "    </tr>\n",
       "    <tr>\n",
       "      <th>2013</th>\n",
       "      <td>26.2</td>\n",
       "      <td>26.5</td>\n",
       "      <td>24.666667</td>\n",
       "      <td>24.8</td>\n",
       "      <td>24.3</td>\n",
       "    </tr>\n",
       "    <tr>\n",
       "      <th>2014</th>\n",
       "      <td>24.7</td>\n",
       "      <td>24.9</td>\n",
       "      <td>23.666667</td>\n",
       "      <td>26.1</td>\n",
       "      <td>21.1</td>\n",
       "    </tr>\n",
       "    <tr>\n",
       "      <th>2015</th>\n",
       "      <td>19.8</td>\n",
       "      <td>17.2</td>\n",
       "      <td>19.0</td>\n",
       "      <td>22.1</td>\n",
       "      <td>18.7</td>\n",
       "    </tr>\n",
       "    <tr>\n",
       "      <th>2016</th>\n",
       "      <td>26.1</td>\n",
       "      <td>25.3</td>\n",
       "      <td>25.0</td>\n",
       "      <td>25.1</td>\n",
       "      <td>24.0</td>\n",
       "    </tr>\n",
       "    <tr>\n",
       "      <th>2017</th>\n",
       "      <td>25.9</td>\n",
       "      <td>24.8</td>\n",
       "      <td>25.0</td>\n",
       "      <td>25.5</td>\n",
       "      <td>24.6</td>\n",
       "    </tr>\n",
       "    <tr>\n",
       "      <th>2018</th>\n",
       "      <td>NaN</td>\n",
       "      <td>NaN</td>\n",
       "      <td>NaN</td>\n",
       "      <td>NaN</td>\n",
       "      <td>NaN</td>\n",
       "    </tr>\n",
       "  </tbody>\n",
       "</table>\n",
       "</div>"
      ],
      "text/plain": [
       "        Aalborg     Aarhus    Esbjerg     Odense   Roskilde\n",
       "1980       24.0       24.0       25.0       25.0       22.0\n",
       "1981       25.0       24.0       25.0  23.666667       23.0\n",
       "1982       21.7       23.2       25.0       25.0       22.0\n",
       "1983       16.0       18.0       18.0       18.0       18.0\n",
       "1984       24.2       24.0       22.0  21.833333       21.0\n",
       "1985       24.5       24.6       26.6       25.1  23.833333\n",
       "1986  20.333333       21.0  22.833333  20.833333       21.0\n",
       "1987  20.333333       23.0       21.0       20.4  19.833333\n",
       "1988       24.8       24.2  25.833333       24.3       23.3\n",
       "1989       26.5       24.0       25.0       26.1       24.5\n",
       "1990       25.0       25.0  24.916667  24.916667       22.0\n",
       "1991       21.7  22.666667  20.833333  22.833333       20.6\n",
       "1992       25.0       25.0  25.833333       25.0       25.0\n",
       "1993       25.0       25.0  25.833333  25.833333       24.0\n",
       "1994       20.0       21.0       20.9       21.0       20.0\n",
       "1995  20.777778       22.0  21.666667       22.3  21.671429\n",
       "1996       21.0  21.857143  19.833333       24.0       21.0\n",
       "1997  17.833333       19.0       22.0       19.3       19.4\n",
       "1998       21.1  21.871429       23.0       23.2       24.6\n",
       "1999       23.2       23.0  26.183333       26.6       22.4\n",
       "2000  25.166667       26.4       26.3       28.2       27.0\n",
       "2001       21.0       22.1  24.833333       22.0  22.833333\n",
       "2002       22.3       21.1  23.666667       23.0       20.7\n",
       "2003  20.666667       20.0  20.666667       22.2       22.8\n",
       "2004  23.333333       20.0       22.4       21.3       21.0\n",
       "2005       24.7       23.0       24.1       30.4       25.5\n",
       "2006       23.3       22.7       23.5       49.9       22.0\n",
       "2007       19.4       19.4       22.0       23.2  23.333333\n",
       "2008       25.3       23.1       27.0       25.0       23.6\n",
       "2009       24.4       22.3       25.0       21.9       25.0\n",
       "2010       22.8       22.0       22.0       21.1       20.4\n",
       "2011       22.4       21.8       24.0       21.8       24.0\n",
       "2012       27.0       25.6       27.0       25.0       26.5\n",
       "2013       26.2       26.5  24.666667       24.8       24.3\n",
       "2014       24.7       24.9  23.666667       26.1       21.1\n",
       "2015       19.8       17.2       19.0       22.1       18.7\n",
       "2016       26.1       25.3       25.0       25.1       24.0\n",
       "2017       25.9       24.8       25.0       25.5       24.6\n",
       "2018        NaN        NaN        NaN        NaN        NaN"
      ]
     },
     "execution_count": 217,
     "metadata": {},
     "output_type": "execute_result"
    }
   ],
   "source": [
    "Max_Temp_May"
   ]
  },
  {
   "cell_type": "code",
   "execution_count": 218,
   "metadata": {
    "id": "tdqOTTh6AGI8"
   },
   "outputs": [
    {
     "data": {
      "text/plain": [
       "[<matplotlib.lines.Line2D at 0x217a2715a48>,\n",
       " <matplotlib.lines.Line2D at 0x217a915f908>,\n",
       " <matplotlib.lines.Line2D at 0x217a99350c8>,\n",
       " <matplotlib.lines.Line2D at 0x217a9935288>,\n",
       " <matplotlib.lines.Line2D at 0x217a9935488>]"
      ]
     },
     "execution_count": 218,
     "metadata": {},
     "output_type": "execute_result"
    },
    {
     "data": {
      "image/png": "[encoded data removed]",
      "text/plain": [
       "<Figure size 1152x720 with 1 Axes>"
      ]
     },
     "metadata": {
      "needs_background": "light"
     },
     "output_type": "display_data"
    }
   ],
   "source": [
    "###########################\n",
    "# Task: \n",
    "#   plot minimum wind speed in May from 1980 to 2018.\n",
    "#\n",
    "###########################\n",
    "\n",
    "\n",
    "### TO DO\n",
    "Min_WindSpeed_May = general_func_2DP(df_resampled,'May','min','WindSpeed')\n",
    "\n",
    "fig,ax = plt.subplots(figsize = (16,10))\n",
    "\n",
    "ax.plot(Min_WindSpeed_May)\n",
    "\n",
    "#########"
   ]
  },
  {
   "cell_type": "markdown",
   "metadata": {
    "id": "GyfyRXeRAGI-"
   },
   "source": [
    "**NOTE:** Look at the scale of the previous plots. Do you think all those zeros actually mean that there was no wind at all?"
   ]
  },
  {
   "cell_type": "markdown",
   "metadata": {
    "id": "NV9iGRvxAGI-"
   },
   "source": [
    "## 1.4 - Outliers"
   ]
  },
  {
   "cell_type": "markdown",
   "metadata": {
    "id": "721STQcBAGI-"
   },
   "source": [
    "In the plots you can notice there is definitely an outlier (you could also identify it using the general properties of the dataset as well). \n",
    "\n",
    "This is quite a common case one can encounter while dealing with big datasets. Such inconsistancyin the data is likely to affect our inference about the general statistics behind the data. **How to detect such outliers?**"
   ]
  },
  {
   "cell_type": "markdown",
   "metadata": {
    "id": "rIVA8GKBAGI_"
   },
   "source": [
    "\n",
    "### 1.4.1 Using visualisation tools\n",
    "\n",
    "The very first method is to spot outliers by using your eyes. For example, open your data and find a\n",
    "datapoint is clearly different from others. Let's look at different visualisation toos.\n"
   ]
  },
  {
   "cell_type": "markdown",
   "metadata": {
    "id": "UCCJVAEQ-Hba"
   },
   "source": [
    "#### 1.4.1.1 Box Plot\n",
    "Boxplots are a standardized way of displaying the distribution of data based on a five number summary (“minimum”, first quartile (Q1), median, third quartile (Q3), and “maximum”):\n",
    "\n",
    "![](Figures/box_plot.png)\n",
    "\n",
    "**median (Q2/50th Percentile)**: the middle value of the dataset.\n",
    "\n",
    "**first quartile (Q1/25th Percentile)**: the middle number between the smallest number (not the “minimum”) and the median of the dataset.\n",
    "\n",
    "**third quartile (Q3/75th Percentile)**: the middle value between the median and the highest value (not the “maximum”) of the dataset.\n",
    "\n",
    "**interquartile range (IQR)**: 25th to the 75th percentile.\n",
    "\n",
    "**“maximum”**: $Q3 + 1.5*IQR$\n",
    "\n",
    "**“minimum”**: $Q1 -1.5*IQR$\n",
    "\n",
    "**whiskers** (shown in blue)\n",
    "\n",
    "**outliers** (shown as green circles)"
   ]
  },
  {
   "cell_type": "markdown",
   "metadata": {
    "id": "Ci-tPp9MAGI_"
   },
   "source": [
    "Back to our max temperature example, let's box-plot and find out the outlier in the data we used to plot \"The max temperature in May - city of Odense\"."
   ]
  },
  {
   "cell_type": "code",
   "execution_count": 219,
   "metadata": {
    "id": "3uMQGI9UAGI_",
    "scrolled": true
   },
   "outputs": [
    {
     "name": "stderr",
     "output_type": "stream",
     "text": [
      "D:\\Anaconda3\\envs\\python37tensorflow\\lib\\site-packages\\seaborn\\_decorators.py:43: FutureWarning: Pass the following variable as a keyword arg: x. From version 0.12, the only valid positional argument will be `data`, and passing other arguments without an explicit keyword will result in an error or misinterpretation.\n",
      "  FutureWarning\n"
     ]
    },
    {
     "data": {
      "image/png": "[encoded data removed]",
      "text/plain": [
       "<Figure size 432x288 with 1 Axes>"
      ]
     },
     "metadata": {
      "needs_background": "light"
     },
     "output_type": "display_data"
    }
   ],
   "source": [
    "import seaborn as sns\n",
    "\n",
    "# extract all the data except the last one because it is a NaN, which is missing value. \n",
    "# We will see shortly how to deal with missing value.\n",
    "\n",
    "#outlier_dataset = np.array(may_max_temp_3[:-1])\n",
    "outlier_dataset = np.array((Max_Temp_May[:-1]).iloc[:,3])\n",
    "outlier_year = np.array(years[:-1])\n",
    "\n",
    "# box plot\n",
    "sns.boxplot(outlier_dataset)\n",
    "\n",
    "plt.xlabel(r'Temperature ($^\\circ$C)')\n",
    "plt.xlim([10, 60])\n",
    "plt.show()"
   ]
  },
  {
   "cell_type": "markdown",
   "metadata": {
    "id": "5v6s3YXRAGJB"
   },
   "source": [
    "As you can see, besides the outlier temperature 50 degrees, there is another outlier temperature around 31 degrees. Is it really an outlier? For 31 degres, it is ambiguous whether it is an outlier or variance."
   ]
  },
  {
   "cell_type": "markdown",
   "metadata": {
    "id": "ocZNzypxAGJB"
   },
   "source": [
    "#### 1.4.1.2 Scatter Plot\n",
    "A scatter plot is the collection of points that shows values for two variables. \n",
    "\n"
   ]
  },
  {
   "cell_type": "code",
   "execution_count": 220,
   "metadata": {
    "id": "KZIrzF8aAGJB",
    "scrolled": true
   },
   "outputs": [
    {
     "data": {
      "image/png": "[encoded data removed]",
      "text/plain": [
       "<Figure size 432x288 with 1 Axes>"
      ]
     },
     "metadata": {
      "needs_background": "light"
     },
     "output_type": "display_data"
    }
   ],
   "source": [
    "# scatter plot: x=year,y=value\n",
    "plt.scatter(outlier_year,outlier_dataset)\n",
    "plt.xlabel('Year')\n",
    "plt.ylabel('Maximum temperature in May - city of Odense')\n",
    "plt.ylim([15, 55])\n",
    "plt.grid()\n",
    "plt.show()"
   ]
  },
  {
   "cell_type": "code",
   "execution_count": 221,
   "metadata": {},
   "outputs": [
    {
     "data": {
      "text/plain": [
       "array([25.0, 23.666666666666668, 25.0, 18.0, 21.833333333333332, 25.1,\n",
       "       20.833333333333332, 20.4, 24.3, 26.1, 24.916666666666668,\n",
       "       22.833333333333332, 25.0, 25.833333333333332, 21.0, 22.3, 24.0,\n",
       "       19.3, 23.2, 26.6, 28.2, 22.0, 23.0, 22.2, 21.3, 30.4, 49.9, 23.2,\n",
       "       25.0, 21.9, 21.1, 21.8, 25.0, 24.8, 26.1, 22.1, 25.1, 25.5],\n",
       "      dtype=object)"
      ]
     },
     "execution_count": 221,
     "metadata": {},
     "output_type": "execute_result"
    }
   ],
   "source": [
    "outlier_dataset"
   ]
  },
  {
   "cell_type": "code",
   "execution_count": 222,
   "metadata": {},
   "outputs": [
    {
     "data": {
      "text/plain": [
       "array([ 1.42126640e-01, -1.32898813e-01,  1.42126640e-01, -1.30175699e+00,\n",
       "       -5.11058811e-01,  1.62753549e-01, -7.17327900e-01, -8.06711173e-01,\n",
       "       -2.26172248e-03,  3.69022639e-01,  1.24937550e-01, -3.04789721e-01,\n",
       "        1.42126640e-01,  3.14017549e-01, -6.82949719e-01, -4.14799902e-01,\n",
       "       -6.41424494e-02, -1.03360717e+00, -2.29157721e-01,  4.72157184e-01,\n",
       "        8.02187728e-01, -4.76680629e-01, -2.70411539e-01, -4.35426811e-01,\n",
       "       -6.21068992e-01,  1.25597973e+00,  5.27822698e+00, -2.29157721e-01,\n",
       "        1.42126640e-01, -4.97307538e-01, -6.62322810e-01, -5.17934447e-01,\n",
       "        1.42126640e-01,  1.00872822e-01,  3.69022639e-01, -4.56053720e-01,\n",
       "        1.62753549e-01,  2.45261185e-01])"
      ]
     },
     "execution_count": 222,
     "metadata": {},
     "output_type": "execute_result"
    }
   ],
   "source": [
    "from scipy import stats\n",
    "stats.zscore(outlier_dataset.astype(float))"
   ]
  },
  {
   "cell_type": "markdown",
   "metadata": {
    "id": "LMPiGOOBAGJD"
   },
   "source": [
    "Observe how the data point around 50 degrees seems to clearly deviate from the general case."
   ]
  },
  {
   "cell_type": "markdown",
   "metadata": {
    "id": "_oV9JrD4AGJD"
   },
   "source": [
    "### 1.4.2 Using statistics\n",
    "\n",
    "Statistical methods can also be very useful to detec outliers. Let's look at some examples."
   ]
  },
  {
   "cell_type": "markdown",
   "metadata": {
    "id": "ubsld1_k-QhR"
   },
   "source": [
    "#### 1.4.2.1 Z-score\n",
    "The Z-score is the signed number of standard deviations, calculated by following equation:\n",
    "\n",
    "$z=\\frac{x-\\overline{x}}{S}$\n",
    "\n",
    "where $\\overline{x}$ is the mean value, $S$ is the standard deviation.\n",
    "\n",
    "Let's see how it works in python."
   ]
  },
  {
   "cell_type": "code",
   "execution_count": 223,
   "metadata": {
    "id": "sjJ5ceYYAGJD"
   },
   "outputs": [
    {
     "name": "stdout",
     "output_type": "stream",
     "text": [
      "z score of the dataset is:\r\n",
      " [1.42126640e-01 1.32898813e-01 1.42126640e-01 1.30175699e+00\n",
      " 5.11058811e-01 1.62753549e-01 7.17327900e-01 8.06711173e-01\n",
      " 2.26172248e-03 3.69022639e-01 1.24937550e-01 3.04789721e-01\n",
      " 1.42126640e-01 3.14017549e-01 6.82949719e-01 4.14799902e-01\n",
      " 6.41424494e-02 1.03360717e+00 2.29157721e-01 4.72157184e-01\n",
      " 8.02187728e-01 4.76680629e-01 2.70411539e-01 4.35426811e-01\n",
      " 6.21068992e-01 1.25597973e+00 5.27822698e+00 2.29157721e-01\n",
      " 1.42126640e-01 4.97307538e-01 6.62322810e-01 5.17934447e-01\n",
      " 1.42126640e-01 1.00872822e-01 3.69022639e-01 4.56053720e-01\n",
      " 1.62753549e-01 2.45261185e-01]\n"
     ]
    },
    {
     "data": {
      "image/png": "[encoded data removed]",
      "text/plain": [
       "<Figure size 432x288 with 1 Axes>"
      ]
     },
     "metadata": {
      "needs_background": "light"
     },
     "output_type": "display_data"
    }
   ],
   "source": [
    "from scipy import stats\n",
    "# calc the abs value of z-score\n",
    "z = np.abs(stats.zscore(outlier_dataset.astype(float)))\n",
    "\n",
    "print('z score of the dataset is:\\r\\n',z)\n",
    "\n",
    "plt.plot(outlier_year,z)\n",
    "plt.grid()\n",
    "plt.ylim([0, 6])\n",
    "plt.ylabel('Z score')\n",
    "plt.show()\n"
   ]
  },
  {
   "cell_type": "markdown",
   "metadata": {
    "id": "hsw0vjn7AGJF"
   },
   "source": [
    "But, then what? how can we find outlier using these z-scores?\n",
    "\n",
    "In general, we **put a threshold on z-scores**. Typically, the threshold is 3.\n",
    "If $|z\\_score|>3$, then it is an outlier."
   ]
  },
  {
   "cell_type": "code",
   "execution_count": 224,
   "metadata": {
    "id": "qnYBrCSoAGJF"
   },
   "outputs": [
    {
     "name": "stdout",
     "output_type": "stream",
     "text": [
      "the data classified as outlier by z score:\r\n",
      " [49.9]\n",
      "the year of the outlier is:\r\n",
      " ['2006']\n"
     ]
    }
   ],
   "source": [
    "# set a threshold and find the location where the value meets our condition(s)\n",
    "threshold = 3\n",
    "outlier_loc = np.where(z > threshold)\n",
    "\n",
    "# find the outlier value given its index\n",
    "outlier_by_Z_Score = outlier_dataset[outlier_loc]\n",
    "print('the data classified as outlier by z score:\\r\\n', outlier_by_Z_Score)\n",
    "print('the year of the outlier is:\\r\\n', outlier_year[outlier_loc])"
   ]
  },
  {
   "cell_type": "markdown",
   "metadata": {
    "id": "W6fm_CVEAGJH"
   },
   "source": [
    "#### 1.4.2.2   IQR score\n",
    "Box plot use the IQR method to display data and outliers(shape of the data) but in order to be get a list of identified outlier, we will need to use the mathematical formula and retrieve the outlier data."
   ]
  },
  {
   "cell_type": "code",
   "execution_count": 225,
   "metadata": {
    "id": "XCed2HZyAGJH"
   },
   "outputs": [
    {
     "name": "stdout",
     "output_type": "stream",
     "text": [
      "The data classified as outlier by IQR score:\r\n",
      " [30.4 49.9]\n"
     ]
    }
   ],
   "source": [
    "Q1 = np.quantile(outlier_dataset,0.25)\n",
    "Q3 = np.quantile(outlier_dataset,0.75)\n",
    "IQR = Q3-Q1\n",
    "Minimum = Q1-1.5*IQR\n",
    "Maximum = Q3+1.5*IQR\n",
    "\n",
    "# find values that meets the conditions: (outlier_dataset<Minimum) or (outlier_dataset>Maximum)\n",
    "outlier_by_IQR_Score=outlier_dataset[(outlier_dataset<Minimum) | (outlier_dataset>Maximum)]\n",
    "print('The data classified as outlier by IQR score:\\r\\n', outlier_by_IQR_Score)"
   ]
  },
  {
   "cell_type": "markdown",
   "metadata": {
    "id": "YPhMrcyRAGJI"
   },
   "source": [
    "## 1.4.3 What to do with outliers?\n",
    "\n",
    "Now that we have ways to detecting outliers, what should we do with them? Let's go through a few potential solutions. "
   ]
  },
  {
   "cell_type": "markdown",
   "metadata": {
    "id": "RW76w3G4_EJH"
   },
   "source": [
    "### 1.4.3.1 Drop them\n",
    "Simply drop the outliers as long as we have sufficient amount of data left.\n",
    "\n",
    "Assume we have detected the outlier using z score. We can then drop it easily."
   ]
  },
  {
   "cell_type": "code",
   "execution_count": 226,
   "metadata": {
    "id": "PQqWH8W_AGJI",
    "scrolled": true
   },
   "outputs": [
    {
     "name": "stdout",
     "output_type": "stream",
     "text": [
      "Before Drop, the dataset has shape:\r\n",
      " (38,)\n",
      "After Drop, the dataset has shape:\r\n",
      " (37,)\n"
     ]
    },
    {
     "data": {
      "image/png": "[encoded data removed]",
      "text/plain": [
       "<Figure size 720x360 with 2 Axes>"
      ]
     },
     "metadata": {
      "needs_background": "light"
     },
     "output_type": "display_data"
    }
   ],
   "source": [
    "# find values that meet the conditions: outlier_dataset != outlier_by_Z_Score\n",
    "# **NOTE** conditions like \"array!=value\" and  \"array==value\" only works \n",
    "# when value is a single value, not an array. The same mechanism for np.where(array==value).\n",
    "\n",
    "dropped_outlier_dataset = outlier_dataset[outlier_dataset != outlier_by_Z_Score]\n",
    "\n",
    "# do the same for year value\n",
    "dropped_outlier_year = outlier_year[outlier_dataset != outlier_by_Z_Score]\n",
    "\n",
    "print('Before Drop, the dataset has shape:\\r\\n', outlier_dataset.shape)\n",
    "print('After Drop, the dataset has shape:\\r\\n', dropped_outlier_dataset.shape)\n",
    "\n",
    "# plot and compare them\n",
    "fig, (ax1, ax2) = plt.subplots(1, 2, sharey=True, figsize=(10, 5))\n",
    "ax1.set_title('Before Drop')\n",
    "ax1.scatter(outlier_year,outlier_dataset)\n",
    "ax1.scatter(outlier_year[outlier_loc], outlier_dataset[outlier_loc], c='r')\n",
    "ax1.set_ylim([15, 55])\n",
    "ax1.set_xlabel('Years')\n",
    "ax1.set_ylabel(r'Temperature ($^\\circ$C)')\n",
    "ax1.grid()\n",
    "\n",
    "ax2.set_title('After Drop')\n",
    "ax2.scatter(dropped_outlier_year,dropped_outlier_dataset)\n",
    "ax2.set_xlabel('Years')\n",
    "ax2.grid()\n",
    "\n",
    "plt.show()"
   ]
  },
  {
   "cell_type": "markdown",
   "metadata": {
    "id": "L5jm-2bZAGJK"
   },
   "source": [
    "### 1.4.3.2 Cap your outliers.\n",
    "Another way to handle true outliers is to cap them. \n",
    "\n",
    "Sometimes, the outlier appears as it hits the upper/lower bound of your sensor. What we can do is to replace it with a setting value, which, for example, could be the max/min value excluding those outliers or just some pre-fixed value.\n",
    "\n",
    "Let's have a look how to do that in python."
   ]
  },
  {
   "cell_type": "code",
   "execution_count": 227,
   "metadata": {
    "id": "pc_TT2WhAGJK"
   },
   "outputs": [
    {
     "name": "stdout",
     "output_type": "stream",
     "text": [
      "Before cap the outlier, its value:\r\n",
      " [49.9]\n",
      "After cap the outlier, its value:\r\n",
      " [30.4]\n"
     ]
    },
    {
     "data": {
      "image/png": "[encoded data removed]",
      "text/plain": [
       "<Figure size 720x360 with 2 Axes>"
      ]
     },
     "metadata": {
      "needs_background": "light"
     },
     "output_type": "display_data"
    }
   ],
   "source": [
    "capped_outlier_dataset=np.copy(outlier_dataset)\n",
    "print('Before cap the outlier, its value:\\r\\n',capped_outlier_dataset[outlier_loc])\n",
    "# cap the outliers\n",
    "capped_outlier_dataset[outlier_loc]=np.max(dropped_outlier_dataset)\n",
    "print('After cap the outlier, its value:\\r\\n',capped_outlier_dataset[outlier_loc])\n",
    "\n",
    "# plot and compare them\n",
    "fig, (ax1, ax2) = plt.subplots(1, 2, sharey=True, figsize=(10, 5))\n",
    "ax1.set_title('Before Cap')\n",
    "ax1.scatter(outlier_year,outlier_dataset)\n",
    "ax1.scatter(outlier_year[outlier_loc], outlier_dataset[outlier_loc], c='r')\n",
    "ax1.set_ylim([15, 55])\n",
    "ax1.set_xlabel('Years')\n",
    "ax1.set_ylabel(r'Temperature ($^\\circ$C)')\n",
    "ax1.grid()\n",
    "\n",
    "ax2.set_title('After cap')\n",
    "ax2.scatter(outlier_year,capped_outlier_dataset)\n",
    "ax2.scatter(outlier_year[outlier_loc], capped_outlier_dataset[outlier_loc], c='r')\n",
    "ax2.set_xlabel('Years')\n",
    "ax2.grid()\n",
    "\n",
    "plt.show()"
   ]
  },
  {
   "cell_type": "markdown",
   "metadata": {
    "id": "oZfxrq8yAGJL"
   },
   "source": [
    "### 1.4.3.3 Replace it with a new value.\n",
    "If an outlier seems to be due to a mistake in your data, you can try imputing another value. Common imputation methods include using the mean of a variable or utilizing a regression model to predict the missing value.\n",
    "\n",
    "For example, we can replace it with the prediction value by a linear regression model.\n",
    "\n",
    "Let's have a look how to do that in python."
   ]
  },
  {
   "cell_type": "code",
   "execution_count": 230,
   "metadata": {
    "id": "HaDP4jGrAGJM"
   },
   "outputs": [
    {
     "name": "stdout",
     "output_type": "stream",
     "text": [
      "Before replacing, the outlier value is:\r\n",
      " [49.9]\n",
      "After replacing, the outlier value predicted by a regression model is: \r\n",
      " [23.888354579254845]\n"
     ]
    },
    {
     "data": {
      "image/png": "[encoded data removed]",
      "text/plain": [
       "<Figure size 720x360 with 2 Axes>"
      ]
     },
     "metadata": {
      "needs_background": "light"
     },
     "output_type": "display_data"
    }
   ],
   "source": [
    "replaced_outlier_dataset = np.copy(outlier_dataset)\n",
    "print('Before replacing, the outlier value is:\\r\\n',replaced_outlier_dataset[outlier_loc])\n",
    "\n",
    "# find the coefficient of our linear model using clean data\n",
    "z = np.polyfit(dropped_outlier_year.astype(float),dropped_outlier_dataset.astype(float), deg=1) # deg=1: use 1-order polynomial regression model\n",
    "# define our linear model\n",
    "pred_func = np.poly1d(z)\n",
    "# predict the value of our outlier and replace it\n",
    "pred_value = pred_func(outlier_year[outlier_loc].astype(float))\n",
    "replaced_outlier_dataset[outlier_loc]=pred_value\n",
    "print('After replacing, the outlier value predicted by a regression model is: \\r\\n',replaced_outlier_dataset[outlier_loc])\n",
    "\n",
    "# plot and compare them\n",
    "fig, (ax1, ax2) = plt.subplots(1, 2, sharey=True, figsize=(10, 5))\n",
    "ax1.set_title('Before replace')\n",
    "ax1.scatter(outlier_year,outlier_dataset)\n",
    "ax1.scatter(outlier_year[outlier_loc], outlier_dataset[outlier_loc], c='r')\n",
    "ax1.set_ylim([15, 55])\n",
    "ax1.set_xlabel('Years')\n",
    "ax1.set_ylabel(r'Temperature ($^\\circ$C)')\n",
    "ax1.grid()\n",
    "\n",
    "ax2.set_title('After replace')\n",
    "ax2.scatter(outlier_year,replaced_outlier_dataset)\n",
    "ax2.scatter(outlier_year[outlier_loc], pred_value, c='r')\n",
    "ax2.set_xlabel('Years')\n",
    "ax2.grid()\n",
    "\n",
    "plt.show()"
   ]
  },
  {
   "cell_type": "markdown",
   "metadata": {
    "id": "Jm2ANRa9AGJN"
   },
   "source": [
    "**_[TO DO]_** Congratulations!!! You have learned the techniques needed to detect and deal with outliers. Now, try to detect and deal with outliers in the same dataset showed above, but:\n",
    "\n",
    "- use the IQR score to detect the outliers\n",
    "- use the temperature data for the months in which the outliers are found to predict and replace them.\n",
    "- use a higher order polynomial (2nd or 3rd) to fit the data.\n",
    "\n",
    "**HINT:** \n",
    "\n",
    "1. Find the years that contain outliers, the IQR score might give you different results compared to the z-score\n",
    "2. Are all the data points detected by the IQR score TRUE outliers?\n",
    "3. Check the data of the months in which the outliers are found to see if there are more (i.e. the maximum value being an outlier does not necessarily mean it is the only one in that month!)\n",
    "4. Use the \"good\" data to fit a 2nd or 3rd order polynomial and estimate the outliers."
   ]
  },
  {
   "cell_type": "code",
   "execution_count": 248,
   "metadata": {
    "id": "ZMTlrqS8AGJN"
   },
   "outputs": [
    {
     "name": "stderr",
     "output_type": "stream",
     "text": [
      "D:\\Anaconda3\\envs\\python37tensorflow\\lib\\site-packages\\ipykernel_launcher.py:7: DeprecationWarning: elementwise comparison failed; this will raise an error in the future.\n",
      "  import sys\n",
      "D:\\Anaconda3\\envs\\python37tensorflow\\lib\\site-packages\\ipykernel_launcher.py:8: DeprecationWarning: elementwise comparison failed; this will raise an error in the future.\n",
      "  \n"
     ]
    },
    {
     "name": "stdout",
     "output_type": "stream",
     "text": [
      "Before replacing, the outlier value is:\r\n",
      " [30.4 49.9]\n",
      "After replacing, the outlier value predicted by a regression model is: \r\n",
      " [array([], dtype=float64), array([25.50718776, 25.58320533])]\n"
     ]
    },
    {
     "data": {
      "image/png": "[encoded data removed]",
      "text/plain": [
       "<Figure size 720x360 with 2 Axes>"
      ]
     },
     "metadata": {
      "needs_background": "light"
     },
     "output_type": "display_data"
    }
   ],
   "source": [
    "##########\n",
    "# - use the IQR score to detect the outliers\n",
    "# - use the temperature data for the months in which the outliers are found to predict and replace them.\n",
    "# - use a higher order polynomial (2nd or 3rd) to fit the data.\n",
    "\n",
    "# TO BE COMPLETED \n",
    "dropped_outlier_dataset = outlier_dataset[outlier_dataset != outlier_by_IQR_Score]\n",
    "dropped_outlier_year = outlier_year[outlier_dataset != outlier_by_IQR_Score]\n",
    "\n",
    "dropped_outlier_dataset1 = outlier_dataset[outlier_dataset != outlier_by_IQR_Score[0]]\n",
    "dropped_outlier_year1 = outlier_year[outlier_dataset != outlier_by_IQR_Score[0]]\n",
    "dropped_outlier_dataset2 = outlier_dataset[outlier_dataset != outlier_by_IQR_Score[1]]\n",
    "dropped_outlier_year2 = outlier_year[outlier_dataset != outlier_by_IQR_Score[1]]\n",
    "\n",
    "outlier_loc = np.where([(outlier_dataset<Minimum) | (outlier_dataset>Maximum)])\n",
    "outlier_loc1 = np.where(outlier_dataset<Minimum)\n",
    "outlier_loc2 = np.where(outlier_dataset>Maximum)\n",
    "\n",
    "replaced_outlier_dataset = np.copy(outlier_dataset)\n",
    "print('Before replacing, the outlier value is:\\r\\n',outlier_by_IQR_Score)\n",
    "\n",
    "# find the coefficient of our linear model using clean data\n",
    "z1 = np.polyfit(dropped_outlier_year1.astype(float),dropped_outlier_dataset1.astype(float), deg=3)\n",
    "# define our linear model\n",
    "pred_func1 = np.poly1d(z1)\n",
    "# find the coefficient of our linear model using clean data\n",
    "z2 = np.polyfit(dropped_outlier_year2.astype(float),dropped_outlier_dataset2.astype(float), deg=3)\n",
    "# define our linear model\n",
    "pred_func2 = np.poly1d(z2)\n",
    "\n",
    "# predict the value of our outlier and replace it\n",
    "pred_value1 = pred_func1(outlier_year[outlier_loc1].astype(float))\n",
    "replaced_outlier_dataset[outlier_loc1]=pred_value1\n",
    "# predict the value of our outlier and replace it\n",
    "pred_value2 = pred_func1(outlier_year[outlier_loc2].astype(float))\n",
    "replaced_outlier_dataset[outlier_loc2]=pred_value2\n",
    "\n",
    "print('After replacing, the outlier value predicted by a regression model is: \\r\\n'\n",
    "      ,[pred_value1,pred_value2])\n",
    "\n",
    "\n",
    "\n",
    "\n",
    "# plot and compare them\n",
    "fig, (ax1, ax2) = plt.subplots(1, 2, sharey=True, figsize=(10, 5))\n",
    "ax1.set_title('Before replace')\n",
    "ax1.scatter(outlier_year,outlier_dataset)\n",
    "ax1.scatter(outlier_year[outlier_loc1], outlier_dataset[outlier_loc1], c='r')\n",
    "ax1.scatter(outlier_year[outlier_loc2], outlier_dataset[outlier_loc2], c='r')\n",
    "ax1.set_ylim([15, 55])\n",
    "ax1.set_xlabel('Years')\n",
    "ax1.set_ylabel(r'Temperature ($^\\circ$C)')\n",
    "ax1.grid()\n",
    "\n",
    "ax2.set_title('After replace')\n",
    "ax2.scatter(outlier_year,replaced_outlier_dataset)\n",
    "ax2.scatter(outlier_year[outlier_loc1], pred_value1, c='r')\n",
    "ax2.scatter(outlier_year[outlier_loc2], pred_value2, c='r')\n",
    "ax2.set_xlabel('Years')\n",
    "ax2.grid()\n",
    "\n",
    "plt.show()\n",
    "\n",
    "\n",
    "##########################################################"
   ]
  },
  {
   "cell_type": "markdown",
   "metadata": {
    "id": "PtKalbkDAG-n"
   },
   "source": [
    "## 1.5 Missing data"
   ]
  },
  {
   "cell_type": "markdown",
   "metadata": {
    "id": "lH8R_IAuAZuY"
   },
   "source": [
    "Resampling a dataset does not assure that no missing values will be found afterwards, because the interpolation method incurs in problems when many consecutive NaNs are encountered. In this case, you can see that there are some NaNs in the cities of Esbjerg and Roskilde, but what about the other cities? (remember we were only looking at the head of the dataset, but it actually has more than 330000 rows!)\n",
    "\n",
    "**_[TO DO]_** count the number of missing values in each column of the dataset."
   ]
  },
  {
   "cell_type": "code",
   "execution_count": 268,
   "metadata": {
    "id": "RVAK8YwRAGJO"
   },
   "outputs": [
    {
     "data": {
      "text/plain": [
       "Index(['Temp', 'Pressure', 'WindSpeed', 'WindDir'], dtype='object')"
      ]
     },
     "execution_count": 268,
     "metadata": {},
     "output_type": "execute_result"
    }
   ],
   "source": [
    "# task\n",
    "#     count the number of missing values in each column of the dataset.\n",
    "\n",
    "# TO DO\n",
    "\n",
    "df_Es = df_resampled.xs('Esbjerg',axis = 1, level = 0)\n",
    "df_Ro = df_resampled.xs('Roskilde',axis = 1, level = 0)\n",
    "df_missing = pd.concat([df_Es,df_Ro])\n",
    "df_missing.columns\n",
    "##############################\n",
    "\n"
   ]
  },
  {
   "cell_type": "code",
   "execution_count": 282,
   "metadata": {},
   "outputs": [
    {
     "data": {
      "text/plain": [
       "Temp         0.000300\n",
       "Pressure     0.271517\n",
       "WindSpeed    0.000300\n",
       "WindDir      0.000300\n",
       "dtype: float64"
      ]
     },
     "execution_count": 282,
     "metadata": {},
     "output_type": "execute_result"
    }
   ],
   "source": [
    "(abs(df_missing.count() - df_missing.shape[0] ) / df_missing.count() )*100"
   ]
  },
  {
   "cell_type": "code",
   "execution_count": 277,
   "metadata": {},
   "outputs": [
    {
     "data": {
      "text/plain": [
       "666220"
      ]
     },
     "execution_count": 277,
     "metadata": {},
     "output_type": "execute_result"
    }
   ],
   "source": [
    "df_missing.shape[0]"
   ]
  },
  {
   "cell_type": "markdown",
   "metadata": {
    "id": "9KyO1qfLAGJQ"
   },
   "source": [
    "You can clearly see that the number of missing values is less than 0.5% and only for the pressure in Esbjerg and Roskilde. This does not affect the dataset as a whole, but since it is a time series, it can affect statistics on a yearly (or seasonal) time basis. \n",
    "\n",
    "Moreover, a second consideration about the linear interpolation in the resampling step is that the filling process might be deceiving.\n",
    "\n",
    "**_[TO DO]_** As an example, plot only the signals that in the previous question contained a significant amount of missing values. Can you spot where the linear interpolation does not provide a reliable outcome?"
   ]
  },
  {
   "cell_type": "code",
   "execution_count": 359,
   "metadata": {
    "id": "fQxuqt7sAGJQ",
    "scrolled": true
   },
   "outputs": [
    {
     "data": {
      "image/png": "[encoded data removed]",
      "text/plain": [
       "<Figure size 720x360 with 1 Axes>"
      ]
     },
     "metadata": {
      "needs_background": "light"
     },
     "output_type": "display_data"
    }
   ],
   "source": [
    "# TO DO\n",
    "df_missing_pressure = df_missing.filter(items = ['Pressure'])\n",
    "#df_missing_pressure.isna()\n",
    "nan_prepare = df_missing_pressure.isna()\n",
    "nan_prepare_array = np.array(nan_prepare)\n",
    "\n",
    "p1 = nan_prepare[nan_prepare_array].head(1).index\n",
    "p2 = nan_prepare[nan_prepare_array].tail(1).index\n",
    "########################################\n",
    "\n",
    "# plot and compare them\n",
    "fig, ax1 = plt.subplots(figsize=(10, 5))\n",
    "ax1.set_title('signals')\n",
    "ax1.plot(df_missing_pressure)\n",
    "ax1.vlines([p1,p2],800,1200,color = 'r')\n",
    "\n",
    "ax1.grid()\n",
    "\n",
    "plt.show()"
   ]
  },
  {
   "cell_type": "code",
   "execution_count": 374,
   "metadata": {},
   "outputs": [
    {
     "name": "stdout",
     "output_type": "stream",
     "text": [
      "DateTime\n",
      "1982-01-01 00:00:00    1021.910744\n",
      "1982-01-01 01:00:00    1021.954270\n",
      "1982-01-01 02:00:00    1021.997796\n",
      "1982-01-01 03:00:00    1022.041322\n",
      "1982-01-01 04:00:00    1022.084848\n",
      "                          ...     \n",
      "1982-12-31 19:00:00     977.588432\n",
      "1982-12-31 20:00:00     977.586600\n",
      "1982-12-31 21:00:00     977.584769\n",
      "1982-12-31 22:00:00     977.582937\n",
      "1982-12-31 23:00:00     977.581105\n",
      "Name: Pressure, Length: 17520, dtype: float64\n"
     ]
    },
    {
     "data": {
      "image/png": "[encoded data removed]",
      "text/plain": [
       "<Figure size 720x360 with 1 Axes>"
      ]
     },
     "metadata": {
      "needs_background": "light"
     },
     "output_type": "display_data"
    }
   ],
   "source": [
    "temp = df_missing_pressure.loc['1982','Pressure']\n",
    "\n",
    "fig, ax1 = plt.subplots(figsize=(10, 5))\n",
    "ax1.plot(temp)\n",
    "print(temp)"
   ]
  },
  {
   "cell_type": "markdown",
   "metadata": {
    "id": "K0NHCsoxAGJR"
   },
   "source": [
    "**_[TO DO]_** For just one of the two signals, produce a plot of the atmospheric pressure versus time and an histogram distribution for two different years:\n",
    "- one with mostly \"reliable\" measurements\n",
    "- one with an excessive amount of linearly interpolated values\n",
    "\n",
    "Which differences can you see in those plots?\n",
    "\n",
    "**HINT:** The typical value of the atmospheric pressure is around 1013 mbar and it has small variance. Therefore the distribution should be a Gaussian."
   ]
  },
  {
   "cell_type": "code",
   "execution_count": 375,
   "metadata": {
    "id": "k1QvlaNgAGJR"
   },
   "outputs": [
    {
     "data": {
      "text/plain": [
       "(array([3370., 3409., 3409., 2032.,  875.,  876.,  875.,  875.,  875.,\n",
       "         924.]),\n",
       " array([ 977.58110517,  982.22299465,  986.86488414,  991.50677362,\n",
       "         996.1486631 , 1000.79055258, 1005.43244207, 1010.07433155,\n",
       "        1014.71622103, 1019.35811052, 1024.        ]),\n",
       " <BarContainer object of 10 artists>)"
      ]
     },
     "execution_count": 375,
     "metadata": {},
     "output_type": "execute_result"
    },
    {
     "data": {
      "image/png": "[encoded data removed]",
      "text/plain": [
       "<Figure size 720x360 with 1 Axes>"
      ]
     },
     "metadata": {
      "needs_background": "light"
     },
     "output_type": "display_data"
    }
   ],
   "source": [
    "# [TO DO (1)] choose one year with many interpolated values, plot it and make an histogram of the distribution\n",
    "# TO BE COMPLETED\n",
    "temp = df_missing_pressure.loc['1982','Pressure']\n",
    "fig, ax1 = plt.subplots(figsize=(10, 5))\n",
    "ax1.hist(temp)\n",
    "###############################################"
   ]
  },
  {
   "cell_type": "code",
   "execution_count": 376,
   "metadata": {
    "id": "jvpXbW9cAGJS"
   },
   "outputs": [
    {
     "data": {
      "text/plain": [
       "(array([  43.,  282.,  365., 1065., 2993., 4871., 5179., 2011.,  532.,\n",
       "         227.]),\n",
       " array([ 967.  ,  975.11,  983.22,  991.33,  999.44, 1007.55, 1015.66,\n",
       "        1023.77, 1031.88, 1039.99, 1048.1 ]),\n",
       " <BarContainer object of 10 artists>)"
      ]
     },
     "execution_count": 376,
     "metadata": {},
     "output_type": "execute_result"
    },
    {
     "data": {
      "image/png": "[encoded data removed]",
      "text/plain": [
       "<Figure size 720x360 with 1 Axes>"
      ]
     },
     "metadata": {
      "needs_background": "light"
     },
     "output_type": "display_data"
    }
   ],
   "source": [
    "# [TO DO (2)] choose one year with mostly actual observations, plot it and make an histogram of the distribution\n",
    "temp = df_missing_pressure.loc['1984','Pressure']\n",
    "fig, ax1 = plt.subplots(figsize=(10, 5))\n",
    "ax1.hist(temp)\n",
    "# TO BE COMPLETED"
   ]
  },
  {
   "cell_type": "markdown",
   "metadata": {
    "id": "kdwViR3zAGJT"
   },
   "source": [
    "### 1.5.1 Imputation of missing data points\n",
    "\n",
    "Dealing with missing data points (or badly interpolated ones) is not easy. When missing data points are found, there are various approaches that we can consider:\n",
    "\n",
    "- drop all of them (in this case is quite reasonable as they are only a few, percentage-wise).\n",
    "- replace with the mean, median or mode. \n",
    "- replace with a fixed number, like -1 or 0.\n",
    "\n",
    "Since we are dealing with a time series, none of these methods seems to be appropriate, especially the replacement. \n",
    "Therefore, we could generate this data by creating a predictive model that estimates the missing data from all the other input signals. Then we could fill the gaps by putting these generated values back into the data-set.\n",
    "\n",
    "This process is also referred to as **imputation**. There are many ways to impute the missing values, one of the most powerful being the *MissForest* module inside the [missingpy](https://pypi.org/project/missingpy/) package (this package is not installed in the base Anaconda environment).\n",
    "\n",
    "It basically fits a Random Forest (shallow machine learning algorithm) to the data and estimates all the missing values in each column feature. Here we only provide the code to run the MissForest algorithm (which is quite slow on Jupyter!).\n",
    "\n",
    "\n",
    "As an example, we have pre-trained the MissForest in order to predict the pressure values in Roskilde in 1982 (all the data points are linearly interpolated).\n",
    "\n",
    "You can see that the imputation consistently replicates how the pressure varies through the year, with a higher variance in winter and a lower one in summer. \n",
    "\n",
    "Feel free to install the *missingpy* package (you need to use pip, is not in the Anaconda repository) and try to replace the missing values and the badly interpolated ones."
   ]
  },
  {
   "cell_type": "code",
   "execution_count": null,
   "metadata": {
    "id": "17mfU7xOAGJU"
   },
   "outputs": [],
   "source": [
    "df_Esbjerg_imputed = pd.read_pickle('./weather-data/weather_Esbjerg_imputed.pkl')"
   ]
  },
  {
   "cell_type": "code",
   "execution_count": null,
   "metadata": {
    "id": "paFLnQkjAGJV",
    "scrolled": true
   },
   "outputs": [],
   "source": [
    "plt.figure(figsize=(16, 7))\n",
    "df_resampled['Esbjerg'].loc['1980-03-01 10:00:00':'1995-12-31 23:00:00','Pressure'].plot()\n",
    "df_Esbjerg_imputed.loc['1982-01-01 00:00:00':'1982-12-31 23:00:00','Pressure'].plot(alpha=0.7)\n",
    "\n",
    "plt.ylim([960, 1060])\n",
    "plt.ylabel('Pressure (mbar)')\n",
    "plt.show()"
   ]
  }
 ],
 "metadata": {
  "colab": {
   "collapsed_sections": [],
   "name": "LAB2.ipynb",
   "provenance": [
    {
     "file_id": "1Oi_asqq_7A12-Rbgi3Mf1NH4TMradDpC",
     "timestamp": 1603822785138
    }
   ]
  },
  "kernelspec": {
   "display_name": "Python 3 (ipykernel)",
   "language": "python",
   "name": "python3"
  },
  "language_info": {
   "codemirror_mode": {
    "name": "ipython",
    "version": 3
   },
   "file_extension": ".py",
   "mimetype": "text/x-python",
   "name": "python",
   "nbconvert_exporter": "python",
   "pygments_lexer": "ipython3",
   "version": "3.7.11"
  }
 },
 "nbformat": 4,
 "nbformat_minor": 1
}
